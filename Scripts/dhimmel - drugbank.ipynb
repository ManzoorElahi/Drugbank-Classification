{
 "cells": [
  {
   "cell_type": "code",
   "execution_count": null,
   "metadata": {
    "_uuid": "40fff571d215af00b45ec5faf36c8c77bf08e423"
   },
   "outputs": [],
   "source": [
    "import numpy as np\n",
    "import pandas\n",
    "import os\n",
    "from urllib.request import urlretrieve\n",
    "import zipfile"
   ]
  },
  {
   "cell_type": "code",
   "execution_count": null,
   "metadata": {
    "_uuid": "543e41f967b6cd873f4ef10b0d21af2b53b55652"
   },
   "outputs": [],
   "source": [
    "import os\n",
    "import csv\n",
    "import gzip\n",
    "import collections\n",
    "import re\n",
    "import io\n",
    "import json\n",
    "import xml.etree.ElementTree as ET\n",
    "\n",
    "import requests\n",
    "import pandas"
   ]
  },
  {
   "cell_type": "code",
   "execution_count": null,
   "metadata": {
    "_uuid": "a7f2a49ab9c59fae771266bc063e1d483844f942"
   },
   "outputs": [],
   "source": [
    "zip_ref = zipfile.ZipFile(filename, 'r')\n",
    "zip_ref.extractall()\n",
    "zip_ref.close()"
   ]
  },
  {
   "cell_type": "code",
   "execution_count": null,
   "metadata": {
    "_uuid": "59ab03e996e9a3a9eb1ed2ed6533e5fbaef46e8e"
   },
   "outputs": [],
   "source": [
    "with open('full database.xml') as xml_file:  \n",
    "    tree = ET.parse(xml_file)\n",
    "root = tree.getroot()"
   ]
  },
  {
   "cell_type": "code",
   "execution_count": null,
   "metadata": {
    "_uuid": "4097c824be47952ebcf86d7ab1210a1f254fc29a"
   },
   "outputs": [],
   "source": [
    "ns = '{http://www.drugbank.ca}'\n",
    "inchikey_template = \"{ns}calculated-properties/{ns}property[{ns}kind='InChIKey']/{ns}value\"\n",
    "inchi_template = \"{ns}calculated-properties/{ns}property[{ns}kind='InChI']/{ns}value\"\n",
    "SMILES_template = \"{ns}calculated-properties/{ns}property[{ns}kind='SMILES']/{ns}value\"\n",
    "logS_template = \"{ns}experimental-property/{ns}property[{ns}kind='logS']/{ns}value\"\n",
    "logP_template = \"{ns}experimental-property/{ns}property[{ns}kind='logP']/{ns}value\"\n",
    "Water_Solubility_template = \"{ns}experimental-property/{ns}property[{ns}kind='Water Solubility']/{ns}value\"\n",
    "Melting_Point_template = \"{ns}experimental-property/{ns}property[{ns}kind='Melting Point']/{ns}value\"\n",
    "Boiling_Point_template = \"{ns}experimental-property/{ns}property[{ns}kind='Boiling Point']/{ns}value\"\n",
    "Hydrophobicity_template = \"{ns}experimental-property/{ns}property[{ns}kind='Hydrophobicity']/{ns}value\"\n",
    "Isoelectric_Point_template = \"{ns}experimental-property/{ns}property[{ns}kind='Isoelectric Point']/{ns}value\"\n",
    "caco2_Permeability_template = \"{ns}experimental-property/{ns}property[{ns}kind='caco2 Permeability']/{ns}value\"\n",
    "pKa_template = \"{ns}experimental-property/{ns}property[{ns}kind='pKa']/{ns}value\"\n",
    "Radioactivity_template = \"{ns}experimental-property/{ns}property[{ns}kind='Radioactivity']/{ns}value\"\n",
    "\n",
    "    \n",
    "rows = list()\n",
    "for i, drug in enumerate(root):\n",
    "    row = collections.OrderedDict()\n",
    "    assert drug.tag == ns + 'drug'\n",
    "    row['type'] = drug.get('type')\n",
    "    row['drugbank_id'] = drug.findtext(ns + \"drugbank-id[@primary='true']\")\n",
    "    row['name'] = drug.findtext(ns + \"name\")\n",
    "    row['description'] = drug.findtext(ns + \"description\")\n",
    "    row['pharmacodynamics'] = drug.findtext(ns + \"pharmacodynamics\")\n",
    "    row['mechanism-of-action'] = drug.findtext(ns + \"mechanism-of-action\")\n",
    "    row['toxicity'] = drug.findtext(ns + \"toxicity\")\n",
    "    row['metabolism'] = drug.findtext(ns + \"metabolism\")\n",
    "    row['absorption'] = drug.findtext(ns + \"absorption\")\n",
    "    row['half-life'] = drug.findtext(ns + \"half-life\")\n",
    "    row['protein-binding'] = drug.findtext(ns + \"protein-binding\")\n",
    "    row['route-of-elimination'] = drug.findtext(ns + \"route-of-elimination\")\n",
    "    row['clearance'] = drug.findtext(ns + \"clearance\")\n",
    "\n",
    "    row['groups'] = [group.text for group in\n",
    "        drug.findall(\"{ns}groups/{ns}group\".format(ns = ns))]\n",
    "    row['targets'] = [target.text for target in\n",
    "        drug.findall(\"{ns}targets/{ns}target\".format(ns = ns))]\n",
    "    row['enzymes'] = [enzyme.text for enzyme in\n",
    "        drug.findall(\"{ns}enzymes/{ns}enzyme\".format(ns = ns))]\n",
    "    \n",
    "    \n",
    "    row['atc_codes'] = [code.get('code') for code in\n",
    "        drug.findall(\"{ns}atc-codes/{ns}atc-code\".format(ns = ns))]\n",
    "    row['categories'] = [x.findtext(ns + 'category') for x in\n",
    "        drug.findall(\"{ns}categories/{ns}category\".format(ns = ns))]\n",
    "    row['inchi'] = drug.findtext(inchi_template.format(ns = ns))\n",
    "    row['inchikey'] = drug.findtext(inchikey_template.format(ns = ns))\n",
    "    row['SMILES'] = drug.findtext(SMILES_template.format(ns = ns))\n",
    "    row['logS'] = drug.findtext(logS_template.format(ns = ns))\n",
    "    row['logP'] = drug.findtext(logP_template.format(ns = ns))\n",
    "    row['Water_Solubility'] = drug.findtext(Water_Solubility_template.format(ns = ns))\n",
    "    row['Melting_Point'] = drug.findtext(Melting_Point_template.format(ns = ns))\n",
    "    row['Boiling_Point'] = drug.findtext(Boiling_Point_template.format(ns = ns))\n",
    "    row['Hydrophobicity'] = drug.findtext(Hydrophobicity_template.format(ns = ns))\n",
    "    row['Isoelectric_Point'] = drug.findtext(Isoelectric_Point_template.format(ns = ns))\n",
    "    row['caco2_Permeability'] = drug.findtext(caco2_Permeability_template.format(ns = ns))\n",
    "    row['pKa'] = drug.findtext(pKa_template.format(ns = ns))\n",
    "    row['Radioactivity'] = drug.findtext(Radioactivity_template.format(ns = ns))\n",
    "    \n",
    "    \n",
    "    # Add drug aliases\n",
    "    aliases = {\n",
    "        elem.text for elem in \n",
    "        drug.findall(\"{ns}international-brands/{ns}international-brand\".format(ns = ns)) +\n",
    "        drug.findall(\"{ns}synonyms/{ns}synonym[@language='English']\".format(ns = ns)) +\n",
    "        drug.findall(\"{ns}international-brands/{ns}international-brand\".format(ns = ns)) +\n",
    "        drug.findall(\"{ns}products/{ns}product/{ns}name\".format(ns = ns))\n",
    "\n",
    "    }\n",
    "    aliases.add(row['name'])\n",
    "    row['aliases'] = sorted(aliases)\n",
    "\n",
    "    rows.append(row)"
   ]
  },
  {
   "cell_type": "code",
   "execution_count": null,
   "metadata": {
    "_uuid": "14ddaa3c9ac08788db5589809d125de4a1e0a2bb"
   },
   "outputs": [],
   "source": [
    "print(os.listdir())"
   ]
  },
  {
   "cell_type": "code",
   "execution_count": null,
   "metadata": {
    "_uuid": "08879333ba61a07faacfe1c86a9e44c4e26889e7"
   },
   "outputs": [],
   "source": [
    "def collapse_list_values(row):\n",
    "    for key, value in row.items():\n",
    "        if isinstance(value, list):\n",
    "            row[key] = '|'.join(value)\n",
    "    return row\n",
    "\n",
    "rows = list(map(collapse_list_values, rows))"
   ]
  },
  {
   "cell_type": "code",
   "execution_count": null,
   "metadata": {
    "_uuid": "7b3959be0d385ba9aea3185a5c80a2b42b880da8"
   },
   "outputs": [],
   "source": [
    "#columns = ['drugbank_id', 'name', 'type', 'groups', 'atc_codes', 'categories', \n",
    "#           'inchikey', 'inchi', 'description', 'SMILES', 'logP', 'logS', \n",
    "#           'Water_Solubility']\n",
    "drugbank_df = pandas.DataFrame.from_dict(rows)#[columns]\n",
    "drugbank_df.head()"
   ]
  },
  {
   "cell_type": "code",
   "execution_count": null,
   "metadata": {
    "_uuid": "ba6112aa29129197da81f7c0e262e672323af4a3"
   },
   "outputs": [],
   "source": [
    "drugbank_slim_df = drugbank_df[\n",
    "    drugbank_df.groups.map(lambda x: 'approved' in x) &\n",
    "    drugbank_df.inchi.map(lambda x: x is not None) &\n",
    "    drugbank_df.type.map(lambda x: x == 'small molecule')\n",
    "]\n",
    "drugbank_slim_df.head()"
   ]
  },
  {
   "cell_type": "code",
   "execution_count": null,
   "metadata": {
    "_uuid": "e16703ed4ba2bef3f33b33f96a0fb44f85cd4e4d"
   },
   "outputs": [],
   "source": [
    "# write drugbank tsv\n",
    "path = 'drugbank.tsv'\n",
    "drugbank_df.to_csv(path, sep='\\t',index=False)\n",
    "\n",
    "# write slim drugbank tsv\n",
    "path = 'drugbank-slim.tsv'\n",
    "drugbank_slim_df.to_csv(path,sep='\\t', index=False)"
   ]
  },
  {
   "cell_type": "code",
   "execution_count": null,
   "metadata": {
    "_uuid": "1cf4f79b3159f0be8dde4fd9a3586aabddc8953a"
   },
   "outputs": [],
   "source": [
    "# write drugbank tsv\n",
    "path = 'drugbank.csv'\n",
    "drugbank_df.to_csv(path, index=False)\n",
    "\n",
    "# write slim drugbank tsv\n",
    "path = 'drugbank-slim.csv'\n",
    "drugbank_slim_df.to_csv(path, index=False)"
   ]
  },
  {
   "cell_type": "markdown",
   "metadata": {
    "_uuid": "3c49e57b4690756dd58e7b793b3a9edc14ffb9a4"
   },
   "source": [
    "## Extract protein information"
   ]
  },
  {
   "cell_type": "code",
   "execution_count": null,
   "metadata": {
    "_uuid": "d8202d508a26826d6dee3c97053ac00da45337cc"
   },
   "outputs": [],
   "source": [
    "protein_rows = list()\n",
    "for i, drug in enumerate(root):\n",
    "    drugbank_id = drug.findtext(ns + \"drugbank-id[@primary='true']\")\n",
    "    for category in ['target', 'enzyme', 'carrier', 'transporter']:\n",
    "        proteins = drug.findall('{ns}{cat}s/{ns}{cat}'.format(ns=ns, cat=category))\n",
    "        for protein in proteins:\n",
    "            row = {'drugbank_id': drugbank_id, 'category': category}\n",
    "            row['organism'] = protein.findtext('{}organism'.format(ns))\n",
    "            row['known_action'] = protein.findtext('{}known-action'.format(ns))\n",
    "            actions = protein.findall('{ns}actions/{ns}action'.format(ns=ns))\n",
    "            row['actions'] = '|'.join(action.text for action in actions)\n",
    "            uniprot_ids = [polypep.text for polypep in protein.findall(\n",
    "                \"{ns}polypeptide/{ns}external-identifiers/{ns}external-identifier[{ns}resource='UniProtKB']/{ns}identifier\".format(ns=ns))]            \n",
    "            if len(uniprot_ids) != 1:\n",
    "                continue\n",
    "            row['uniprot_id'] = uniprot_ids[0]\n",
    "            ref_text = protein.findtext(\"{ns}references[@format='textile']\".format(ns=ns))\n",
    "            pmids = re.findall(r'pubmed/([0-9]+)', str(ref_text))\n",
    "            row['pubmed_ids'] = '|'.join(pmids)\n",
    "            protein_rows.append(row)\n",
    "\n",
    "protein_df = pandas.DataFrame.from_dict(protein_rows)"
   ]
  },
  {
   "cell_type": "code",
   "execution_count": null,
   "metadata": {
    "_uuid": "aa61bc7bb7bfeafe536a400c8829eb8597b014e7"
   },
   "outputs": [],
   "source": [
    "protein_df.head()"
   ]
  },
  {
   "cell_type": "code",
   "execution_count": null,
   "metadata": {
    "_uuid": "23bf77e5f4174572c884c858cd56989fa6b81e2e"
   },
   "outputs": [],
   "source": [
    "\n",
    "# Read our uniprot to entrez_gene mapping\n",
    "response = requests.get('http://git.dhimmel.com/uniprot/data/map/GeneID.tsv.gz', stream=True)\n",
    "text = io.TextIOWrapper(gzip.GzipFile(fileobj=response.raw))\n",
    "uniprot_df = pandas.read_table(text, engine='python')\n",
    "uniprot_df.rename(columns={'uniprot': 'uniprot_id', 'GeneID': 'entrez_gene_id'}, inplace=True)\n",
    "\n",
    "# merge uniprot mapping with protein_df\n",
    "entrez_df = protein_df.merge(uniprot_df, how='inner')"
   ]
  },
  {
   "cell_type": "code",
   "execution_count": null,
   "metadata": {
    "_uuid": "d4a3ecb2687794190b3b0c03e233e0328df4fa76"
   },
   "outputs": [],
   "source": [
    "path = 'proteins.tsv'\n",
    "entrez_df.to_csv(path, sep='\\t', index=False)\n",
    "path = 'proteins.csv'\n",
    "entrez_df.to_csv(path, index=False)"
   ]
  },
  {
   "cell_type": "code",
   "execution_count": null,
   "metadata": {
    "_uuid": "b5cd34aee0f857c60d64a8dc411c4151c7f7505c"
   },
   "outputs": [],
   "source": [
    "entrez_df.head()"
   ]
  }
 ],
 "metadata": {
  "kernelspec": {
   "display_name": "Python 3",
   "language": "python",
   "name": "python3"
  },
  "language_info": {
   "codemirror_mode": {
    "name": "ipython",
    "version": 3
   },
   "file_extension": ".py",
   "mimetype": "text/x-python",
   "name": "python",
   "nbconvert_exporter": "python",
   "pygments_lexer": "ipython3",
   "version": "3.6.6"
  }
 },
 "nbformat": 4,
 "nbformat_minor": 1
}
