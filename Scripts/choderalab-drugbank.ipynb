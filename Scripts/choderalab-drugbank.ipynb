{
 "cells": [
  {
   "cell_type": "code",
   "execution_count": 1,
   "metadata": {
    "_uuid": "40fff571d215af00b45ec5faf36c8c77bf08e423"
   },
   "outputs": [],
   "source": [
    "import numpy as np\n",
    "import pandas\n",
    "import os\n",
    "from urllib.request import urlretrieve\n",
    "import zipfile"
   ]
  },
  {
   "cell_type": "code",
   "execution_count": 2,
   "metadata": {
    "_uuid": "543e41f967b6cd873f4ef10b0d21af2b53b55652"
   },
   "outputs": [],
   "source": [
    "import os\n",
    "import csv\n",
    "import gzip\n",
    "import collections\n",
    "import re\n",
    "import io\n",
    "import json\n",
    "import xml.etree.ElementTree as ET\n",
    "import untangle\n",
    "\n",
    "import requests\n",
    "import pandas as pd"
   ]
  },
  {
   "cell_type": "code",
   "execution_count": 6,
   "metadata": {
    "_uuid": "a7f2a49ab9c59fae771266bc063e1d483844f942"
   },
   "outputs": [],
   "source": [
    "zip_ref = zipfile.ZipFile(filename, 'r')\n",
    "zip_ref.extractall()\n",
    "zip_ref.close()"
   ]
  },
  {
   "cell_type": "code",
   "execution_count": 7,
   "metadata": {},
   "outputs": [],
   "source": [
    "filename=\"full database.xml\"\n",
    "obj=untangle.parse(filename)"
   ]
  },
  {
   "cell_type": "code",
   "execution_count": 8,
   "metadata": {},
   "outputs": [
    {
     "data": {
      "text/html": [
       "<div>\n",
       "<style scoped>\n",
       "    .dataframe tbody tr th:only-of-type {\n",
       "        vertical-align: middle;\n",
       "    }\n",
       "\n",
       "    .dataframe tbody tr th {\n",
       "        vertical-align: top;\n",
       "    }\n",
       "\n",
       "    .dataframe thead th {\n",
       "        text-align: right;\n",
       "    }\n",
       "</style>\n",
       "<table border=\"1\" class=\"dataframe\">\n",
       "  <thead>\n",
       "    <tr style=\"text-align: right;\">\n",
       "      <th></th>\n",
       "      <th>drugbank_id</th>\n",
       "      <th>name</th>\n",
       "      <th>cas</th>\n",
       "      <th>smiles</th>\n",
       "      <th>logP ALOGPS</th>\n",
       "      <th>logP ChemAxon</th>\n",
       "      <th>solubility ALOGPS</th>\n",
       "      <th>pKa (strongest acidic)</th>\n",
       "      <th>pKa (strongest basic)</th>\n",
       "    </tr>\n",
       "  </thead>\n",
       "  <tbody>\n",
       "  </tbody>\n",
       "</table>\n",
       "</div>"
      ],
      "text/plain": [
       "Empty DataFrame\n",
       "Columns: [drugbank_id, name, cas, smiles, logP ALOGPS, logP ChemAxon, solubility ALOGPS, pKa (strongest acidic), pKa (strongest basic)]\n",
       "Index: []"
      ]
     },
     "execution_count": 8,
     "metadata": {},
     "output_type": "execute_result"
    }
   ],
   "source": [
    "df_drugbank_sm=pd.DataFrame(columns=[\"drugbank_id\",\"name\",\"cas\",\"smiles\",\"logP ALOGPS\", \"logP ChemAxon\", \"solubility ALOGPS\", \"pKa (strongest acidic)\", \"pKa (strongest basic)\"])\n",
    "df_drugbank_sm"
   ]
  },
  {
   "cell_type": "code",
   "execution_count": 9,
   "metadata": {},
   "outputs": [],
   "source": [
    "i=-1\n",
    "#iterate over drug entries to extract information\n",
    "for drug in obj.drugbank.drug:\n",
    "    drug_type= str(drug[\"type\"])\n",
    "    \n",
    "    # select for small molecule drugs\n",
    "    if drug_type in [\"small molecule\", \"Small Molecule\", \"Small molecule\"]:\n",
    "        i=i+1    \n",
    "        \n",
    "        #Get drugbank_id\n",
    "        for id in drug.drugbank_id:\n",
    "            if str(id[\"primary\"])==\"true\":\n",
    "                df_drugbank_sm.loc[i, \"drugbank_id\"]=id.cdata\n",
    "        #Drug name\n",
    "        df_drugbank_sm.loc[i,\"name\"]=drug.name.cdata\n",
    "        \n",
    "        #Drug CAS\n",
    "        df_drugbank_sm.loc[i, \"cas\"]=drug.cas_number.cdata\n",
    "        \n",
    "        #Get SMILES, logP, Solubility\n",
    "        #Skip drugs with no structure. (\"DB00386\",\"DB00407\",\"DB00702\",\"DB00785\",\"DB00840\",\n",
    "        #                                            \"DB00893\",\"DB00930\",\"DB00965\", \"DB01109\",\"DB01266\",\n",
    "        #                                           \"DB01323\", \"DB01341\"...)\n",
    "        if len(drug.calculated_properties.cdata)==0: #If there is no calculated properties\n",
    "            continue\n",
    "        else:\n",
    "            for property in drug.calculated_properties.property:\n",
    "                if property.kind.cdata == \"SMILES\":\n",
    "                    df_drugbank_sm.loc[i, \"smiles\"]=property.value.cdata\n",
    "                    \n",
    "                if property.kind.cdata == \"logP\":\n",
    "                    if property.source.cdata == \"ALOGPS\":\n",
    "                        df_drugbank_sm.loc[i, \"logP ALOGPS\"]=property.value.cdata\n",
    "                    if property.source.cdata == \"ChemAxon\":\n",
    "                        df_drugbank_sm.loc[i, \"logP ChemAxon\"]=property.value.cdata\n",
    "                \n",
    "                if property.kind.cdata == \"Water Solubility\":\n",
    "                    df_drugbank_sm.loc[i, \"solubility ALOGPS\"]=property.value.cdata\n",
    "                \n",
    "                if property.kind.cdata == \"pKa (strongest acidic)\":\n",
    "                    df_drugbank_sm.loc[i, \"pKa (strongest acidic)\"]=property.value.cdata\n",
    "                \n",
    "                if property.kind.cdata == \"pKa (strongest basic)\":\n",
    "                    df_drugbank_sm.loc[i, \"pKa (strongest basic)\"]=property.value.cdata"
   ]
  },
  {
   "cell_type": "code",
   "execution_count": 10,
   "metadata": {},
   "outputs": [
    {
     "data": {
      "text/html": [
       "<div>\n",
       "<style scoped>\n",
       "    .dataframe tbody tr th:only-of-type {\n",
       "        vertical-align: middle;\n",
       "    }\n",
       "\n",
       "    .dataframe tbody tr th {\n",
       "        vertical-align: top;\n",
       "    }\n",
       "\n",
       "    .dataframe thead th {\n",
       "        text-align: right;\n",
       "    }\n",
       "</style>\n",
       "<table border=\"1\" class=\"dataframe\">\n",
       "  <thead>\n",
       "    <tr style=\"text-align: right;\">\n",
       "      <th></th>\n",
       "      <th>drugbank_id</th>\n",
       "      <th>name</th>\n",
       "      <th>cas</th>\n",
       "      <th>smiles</th>\n",
       "      <th>logP ALOGPS</th>\n",
       "      <th>logP ChemAxon</th>\n",
       "      <th>solubility ALOGPS</th>\n",
       "      <th>pKa (strongest acidic)</th>\n",
       "      <th>pKa (strongest basic)</th>\n",
       "    </tr>\n",
       "  </thead>\n",
       "  <tbody>\n",
       "    <tr>\n",
       "      <th>0</th>\n",
       "      <td>DB00006</td>\n",
       "      <td>Bivalirudin</td>\n",
       "      <td>128270-60-0</td>\n",
       "      <td>CC[C@H](C)[C@H](NC(=O)[C@H](CCC(O)=O)NC(=O)[C@...</td>\n",
       "      <td>-0.76</td>\n",
       "      <td>-14</td>\n",
       "      <td>4.64e-02 g/l</td>\n",
       "      <td>2.79</td>\n",
       "      <td>11.88</td>\n",
       "    </tr>\n",
       "    <tr>\n",
       "      <th>1</th>\n",
       "      <td>DB00014</td>\n",
       "      <td>Goserelin</td>\n",
       "      <td>65807-02-5</td>\n",
       "      <td>CC(C)C[C@H](NC(=O)[C@@H](COC(C)(C)C)NC(=O)[C@H...</td>\n",
       "      <td>0.3</td>\n",
       "      <td>-5.2</td>\n",
       "      <td>2.83e-02 g/l</td>\n",
       "      <td>9.27</td>\n",
       "      <td>10.82</td>\n",
       "    </tr>\n",
       "    <tr>\n",
       "      <th>2</th>\n",
       "      <td>DB00027</td>\n",
       "      <td>Gramicidin D</td>\n",
       "      <td>1405-97-6</td>\n",
       "      <td>CC(C)C[C@@H](NC(=O)CNC(=O)[C@@H](NC=O)C(C)C)C(...</td>\n",
       "      <td>4.38</td>\n",
       "      <td>5.96</td>\n",
       "      <td>3.90e-03 g/l</td>\n",
       "      <td>11.56</td>\n",
       "      <td>NaN</td>\n",
       "    </tr>\n",
       "    <tr>\n",
       "      <th>3</th>\n",
       "      <td>DB00035</td>\n",
       "      <td>Desmopressin</td>\n",
       "      <td>16679-58-6</td>\n",
       "      <td>NC(=O)CC[C@@H]1NC(=O)[C@H](CC2=CC=CC=C2)NC(=O)...</td>\n",
       "      <td>-1</td>\n",
       "      <td>-6.1</td>\n",
       "      <td>1.10e-01 g/l</td>\n",
       "      <td>9.5</td>\n",
       "      <td>11.77</td>\n",
       "    </tr>\n",
       "    <tr>\n",
       "      <th>4</th>\n",
       "      <td>DB00050</td>\n",
       "      <td>Cetrorelix</td>\n",
       "      <td>120287-85-6</td>\n",
       "      <td>CC(C)C[C@H](NC(=O)[C@@H](CCCNC(N)=O)NC(=O)[C@H...</td>\n",
       "      <td>1.33</td>\n",
       "      <td>-1.7</td>\n",
       "      <td>6.94e-03 g/l</td>\n",
       "      <td>9.49</td>\n",
       "      <td>11.11</td>\n",
       "    </tr>\n",
       "  </tbody>\n",
       "</table>\n",
       "</div>"
      ],
      "text/plain": [
       "  drugbank_id          ...          pKa (strongest basic)\n",
       "0     DB00006          ...                          11.88\n",
       "1     DB00014          ...                          10.82\n",
       "2     DB00027          ...                            NaN\n",
       "3     DB00035          ...                          11.77\n",
       "4     DB00050          ...                          11.11\n",
       "\n",
       "[5 rows x 9 columns]"
      ]
     },
     "execution_count": 10,
     "metadata": {},
     "output_type": "execute_result"
    }
   ],
   "source": [
    "df_drugbank_sm.head()"
   ]
  },
  {
   "cell_type": "code",
   "execution_count": 12,
   "metadata": {},
   "outputs": [
    {
     "name": "stdout",
     "output_type": "stream",
     "text": [
      "(7551, 9)\n"
     ]
    }
   ],
   "source": [
    "#Drop drugs without SMILES from the dataframe\n",
    "df_drugbank_smiles = df_drugbank_sm.dropna()\n",
    "df_drugbank_smiles= df_drugbank_smiles.reset_index(drop=True)\n",
    "print(df_drugbank_smiles.shape)"
   ]
  },
  {
   "cell_type": "code",
   "execution_count": 14,
   "metadata": {},
   "outputs": [],
   "source": [
    "df_drugbank_smiles.to_csv('drugbank_smiles_df.csv',index=False)"
   ]
  }
 ],
 "metadata": {
  "kernelspec": {
   "display_name": "Python 3",
   "language": "python",
   "name": "python3"
  },
  "language_info": {
   "codemirror_mode": {
    "name": "ipython",
    "version": 3
   },
   "file_extension": ".py",
   "mimetype": "text/x-python",
   "name": "python",
   "nbconvert_exporter": "python",
   "pygments_lexer": "ipython3",
   "version": "3.6.6"
  }
 },
 "nbformat": 4,
 "nbformat_minor": 1
}
