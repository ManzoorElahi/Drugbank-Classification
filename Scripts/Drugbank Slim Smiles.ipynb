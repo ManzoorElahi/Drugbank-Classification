{
 "cells": [
  {
   "cell_type": "code",
   "execution_count": 1,
   "metadata": {},
   "outputs": [],
   "source": [
    "from rdkit import Chem\n",
    "from rdkit.Chem import PandasTools\n",
    "import pandas as pd\n",
    "import numpy as np\n",
    "from mordred import Calculator, descriptors\n",
    "from multiprocessing import freeze_support\n",
    "from tqdm import tqdm\n",
    "import warnings\n",
    "import gc\n",
    "warnings.filterwarnings(\"ignore\")"
   ]
  },
  {
   "cell_type": "code",
   "execution_count": 2,
   "metadata": {},
   "outputs": [],
   "source": [
    "dbslim_df = pd.read_csv('drugbank-slim.csv')"
   ]
  },
  {
   "cell_type": "code",
   "execution_count": 3,
   "metadata": {},
   "outputs": [
    {
     "data": {
      "text/plain": [
       "(2420, 32)"
      ]
     },
     "execution_count": 3,
     "metadata": {},
     "output_type": "execute_result"
    }
   ],
   "source": [
    "dbslim_df.shape"
   ]
  },
  {
   "cell_type": "code",
   "execution_count": 4,
   "metadata": {},
   "outputs": [
    {
     "data": {
      "text/html": [
       "<div>\n",
       "<style>\n",
       "    .dataframe thead tr:only-child th {\n",
       "        text-align: right;\n",
       "    }\n",
       "\n",
       "    .dataframe thead th {\n",
       "        text-align: left;\n",
       "    }\n",
       "\n",
       "    .dataframe tbody tr th {\n",
       "        vertical-align: top;\n",
       "    }\n",
       "</style>\n",
       "<table border=\"1\" class=\"dataframe\">\n",
       "  <thead>\n",
       "    <tr style=\"text-align: right;\">\n",
       "      <th></th>\n",
       "      <th>type</th>\n",
       "      <th>drugbank_id</th>\n",
       "      <th>name</th>\n",
       "      <th>description</th>\n",
       "      <th>pharmacodynamics</th>\n",
       "      <th>mechanism-of-action</th>\n",
       "      <th>toxicity</th>\n",
       "      <th>metabolism</th>\n",
       "      <th>absorption</th>\n",
       "      <th>half-life</th>\n",
       "      <th>...</th>\n",
       "      <th>logP</th>\n",
       "      <th>Water_Solubility</th>\n",
       "      <th>Melting_Point</th>\n",
       "      <th>Boiling_Point</th>\n",
       "      <th>Hydrophobicity</th>\n",
       "      <th>Isoelectric_Point</th>\n",
       "      <th>caco2_Permeability</th>\n",
       "      <th>pKa</th>\n",
       "      <th>Radioactivity</th>\n",
       "      <th>aliases</th>\n",
       "    </tr>\n",
       "  </thead>\n",
       "  <tbody>\n",
       "    <tr>\n",
       "      <th>0</th>\n",
       "      <td>small molecule</td>\n",
       "      <td>DB00006</td>\n",
       "      <td>Bivalirudin</td>\n",
       "      <td>Bivalirudin is a synthetic 20 residue peptide (thrombin inhibitor) which reversibly inhibits thrombin. Once bound to the active site, thrombin cannot activate fibrinogen into fibrin, the crucial step in the formation of thrombus. It is administered intravenously. Because it can cause blood stagnation, it is important to monitor changes in hematocrit, activated partial thromboplastin time, international normalized ratio and blood pressure.</td>\n",
       "      <td>Bivalirudin directly and reversibly inhibits thrombin by specifically binding both to the catalytic site and to the anion-binding exosite of circulating and clot-bound thrombin.  The action of bivalirudin is reversible because thrombin will slowly cleave the thrombin-bivalirudin bond which recovers the active site of thrombin.</td>\n",
       "      <td>Inhibits the action of thrombin by binding both to its catalytic site and to its anion-binding exosite. Thrombin is a serine proteinase that plays a central role in the thrombotic process, acting to cleave fibrinogen into fibrin monomers and to activate Factor XIII to Factor XIIIa, allowing fibrin to develop a covalently cross-linked framework which stabilizes the thrombus; thrombin also activates Factors V and VIII, promoting further thrombin generation, and activates platelets, stimulating aggregation and granule release.</td>\n",
       "      <td>Based on a study by Gleason et al., the no-observed-adverse-effect level (NOAEL) for bivalirudin, administered to rats via intravenous infusion over a 24-hour period, was 2000 mg/kg/24 h.</td>\n",
       "      <td>80% proteolytic cleavage</td>\n",
       "      <td>Following intravenous administration, bivalirudin exhibits linear pharmacokinetics.  The mean steady state concentration is 12.3 +/- 1.7mcg/mL after administration of an intravenous bolus of 1mg/kg followd by a 2.5mg/kg/hr intravenous infusion given over 4 hours.</td>\n",
       "      <td>* Normal renal function: 25 min (in normal conditions)\\r\\n* Creatinine clearance 10-29mL/min: 57min\\r\\n* Dialysis-dependant patients: 3.5h</td>\n",
       "      <td>...</td>\n",
       "      <td>NaN</td>\n",
       "      <td>NaN</td>\n",
       "      <td>NaN</td>\n",
       "      <td>NaN</td>\n",
       "      <td>NaN</td>\n",
       "      <td>NaN</td>\n",
       "      <td>NaN</td>\n",
       "      <td>NaN</td>\n",
       "      <td>NaN</td>\n",
       "      <td>\\n      |Angiomax|Bivalirudin|Bivalirudin for Injection|Bivalirudin in 0.9% Sodium Chloride</td>\n",
       "    </tr>\n",
       "    <tr>\n",
       "      <th>1</th>\n",
       "      <td>small molecule</td>\n",
       "      <td>DB00014</td>\n",
       "      <td>Goserelin</td>\n",
       "      <td>Goserelin is a synthetic hormone. In men, it stops the production of the hormone testosterone, which may stimulate the growth of cancer cells. In women, goserelin decreases the production of the hormone estradiol (which may stimulate the growth of cancer cells) to levels similar to a postmenopausal state. When the medication is stopped, hormone levels return to normal.</td>\n",
       "      <td>The pharmacokinetics of goserelin have been determined in both male and female healthy volunteers and patients. In these studies, goserelin was administered as a single 250µg (aqueous solution) dose and as a single or multiple 3.6 mg depot dose by subcutaneous route.</td>\n",
       "      <td>Goserelin is a synthetic decapeptide analogue of LHRH. Goserelin acts as a potent inhibitor of pituitary gonadotropin secretion when administered in the biodegradable formulation. The result is sustained suppression of LH and serum testosterone levels.</td>\n",
       "      <td>No experience of overdosage from clinical trials.</td>\n",
       "      <td>Hepatic</td>\n",
       "      <td>Inactive orally, rapidly absorbed following subcutaneous administration.</td>\n",
       "      <td>4-5 hours</td>\n",
       "      <td>...</td>\n",
       "      <td>NaN</td>\n",
       "      <td>NaN</td>\n",
       "      <td>NaN</td>\n",
       "      <td>NaN</td>\n",
       "      <td>NaN</td>\n",
       "      <td>NaN</td>\n",
       "      <td>NaN</td>\n",
       "      <td>NaN</td>\n",
       "      <td>NaN</td>\n",
       "      <td>\\n      |Goserelin|Zoladex|Zoladex LA</td>\n",
       "    </tr>\n",
       "    <tr>\n",
       "      <th>2</th>\n",
       "      <td>small molecule</td>\n",
       "      <td>DB00027</td>\n",
       "      <td>Gramicidin D</td>\n",
       "      <td>Gramcidin D is a heterogeneous mixture of three antibiotic compounds, gramicidins A, B and C, making up 80%, 6%, and 14% respectively all of which are obtained from the soil bacterial species Bacillus brevis and called collectively gramicidin D. Gramcidins are 15 residue peptides with alternating D and L amino acids. The peptides assemble inside of the hydrophobic interior of the cellular lipid bilayer to form a β-helix. The helix itself is not long enough to span the membrane but it dimerizes to form the elongated channel needed to span the whole membrane. Gramicidin D is used primarily as a topical antibiotic and is one of the three constituents of consumer antibiotic polysporin ophthalmic solution.</td>\n",
       "      <td>Gramicidin is particularly effective against gram-positive bacteria. Because the drug is highly hemolytic, it cannot be administered internally and so is used only on the skin as a lotion or ointment. It is used primarily in the treatment of infected surface wounds, and in eye, nose, and throat infections. It is normally given with two other antibiotics (neomycin and polymixin B) as an ophthalmic solution.</td>\n",
       "      <td>Gramicidin D binds to and inserts itself into bacterial membranes (with a strong preference to gram-positive cell membranes). This results in membrane disruption and permeabilization (it acts as a channel). This leads to (i) loss of intracellular solutes (e.g., K+ and amino acids); (ii) dissipation of the transmembrane potential; (iii) inhibition of respiration; (iv) a reduction in ATP pools; and (v) inhibition of DNA, RNA, and protein synthesis, which leads to cell death.</td>\n",
       "      <td>NaN</td>\n",
       "      <td>NaN</td>\n",
       "      <td>NaN</td>\n",
       "      <td>NaN</td>\n",
       "      <td>...</td>\n",
       "      <td>NaN</td>\n",
       "      <td>NaN</td>\n",
       "      <td>NaN</td>\n",
       "      <td>NaN</td>\n",
       "      <td>NaN</td>\n",
       "      <td>NaN</td>\n",
       "      <td>NaN</td>\n",
       "      <td>NaN</td>\n",
       "      <td>NaN</td>\n",
       "      <td>\\n      |Antibiotic Cream|Antibiotic Cream Plus Pain Relief|Antibiotic Cream Plus Pain Relief for Kids|Antibiotic Cream for Kids|Antibiotic Drops|Antibiotic Ear Drops|Antibiotic Eye Drops|Antibiotic Plus Pain Relief Cream|Complete Antibiotic Ointment|Gramicidin D|Kenacomb Cream|Kenacomb Mild Cream|Kenacomb Mild Ointment|Kenacomb Ointment|Kenacomb Ont|Lidecomb Cream|Lidosporin Cream|Mecomb Crm 0.1%|Neocidin|Neomycin and Polymyxin B Sulfates and Gramicidin|Neosporin|Neosporin Antibiotic Cream|Neosporin Eye-ear Solution|Odan-spor|Optimyxin|Optimyxin Plus Oto-opht Gtte|Original Antibiotic Cream|Polycidin Eye, Ear Drops|Polysporin Antibiotic Burn Cream|Polysporin Antibiotic Cream|Polysporin Burn Formula Cream|Polysporin Cold Sore Ointment|Polysporin Complete|Polysporin Cream|Polysporin Eye and Ear Drops Sterile|Polysporin Plus Pain Relief|Polysporin Triple Antibiotic Ointment|Polysporin for Kids|Polysporin for Stitches|Polytopic Cream|Sandoz Opticort|Sofracort Ear/eye Ointment|Sofracort Eye/ear Drops|Sofracort Sterile Ear/eye Drops|Sofracort Sterile Ear/eye Ointment|Soframycin Nasal Spray|Soframycin Ointment|Soframycin Skin Ointment|Teva-triacomb|Theraderm Cream|Triple Antibiotic Ointment|Viaderm Kc Crm|Viaderm Kc Ont</td>\n",
       "    </tr>\n",
       "    <tr>\n",
       "      <th>3</th>\n",
       "      <td>small molecule</td>\n",
       "      <td>DB00035</td>\n",
       "      <td>Desmopressin</td>\n",
       "      <td>Desmopressin (dDAVP), a synthetic analogue of 8-arginine vasopressin (ADH), is an antidiuretic peptide drug modified by deamination of 1-cysteine and substitution of 8-L-arginine by 8-D-arginine. ADH is an endogenous pituitary hormone that has a crucial role in the control of the water content in the body. Upon release from the stimulation of increased plasma osmolarity or decreased circulating blood volume, ADH mainly acts on the cells of the distal part of the nephron and the collecting tubules in the kidney [T28]. The hormone interacts with V1, V2 or V3 receptors with differing signal cascade systems.\\r\\n\\r\\nDesmopressin displays enhanced antidiuretic potency, fewer pressor effects due to V2-selective actions, and a prolonged half-life and duration of action compared to endogenous ADH [A31661]. It has been employed clinically since 1972 and is available in various formulations including intranasal solution, intravenous solution, oral tablet and oral lyophilisate [A31662]. Desmopressin is indicated for the treatment of polyuric conditions including primary nocturnal enuresis, nocturia, and diabetes insipidus. It was also newly approved for the treatment of mild classical hemophilia and von Willebrand's disease for minor surgeries. The active ingredient in most formulations is desmopressin acetate. Nocdurna, or desmopressin acetate, was approved by the FDA on June 21st, 2018 for the treatment of nocturia due to nocturnal polyuria in adults. It is available as a sublingual tablet.</td>\n",
       "      <td>By mimicking the actions of endogenous ADH, desmopressin acts as a selective agonist of V2 receptors expressed in the renal collecting duct (CD) to increase water re-absorption and reduce urine production. Desmopressin has been shown to be more potent than ADH in increasing plasma levels of factor VIII activity in patients with hemophilia and von Willebrand's disease Type I [L1183]. Desmopressin demonstrates markedly diminished pressor activity. Desmopressin administered intranasally has an antidiuretic effect about one-tenth that of an equivalent dose administered by injection [L1182].</td>\n",
       "      <td>Upon binding of desmopressin to V2 receptors in the basolateral membrane of the cells of the distal tubule and collecting ducts of the nephron, adenylyl cyclase is stimulated. The resulting intracellular cascades in the collecting duct lead to increased rate of insertion of water channels, called aquaporins, into the lumenal membrane and enhanced the permeability of the membrane to water [T28].</td>\n",
       "      <td>Intravenous TDLo in humans is reported to be 0.3 µg/kg/10M [MSDS]. Desmopressin is associated with hyponatremia in case of overdose, which may require temporary or permanent discontinuation of the therapy depending on severity. The effects of hyponatremia include seizure, altered mental status (confusion, drowsiness or continuing headache), cardiac arrhythmias and worsening edema. Other signs of overdose may include oliguria and rapid weight gain due to fluid retention [FDA Label]. In case of overdose, reduce the dose or frequency of drug administration, or discontinue use if appropriate. Assessment of serum sodium and initiation of appropriate medical treatment is recommended.</td>\n",
       "      <td>In vitro, in human liver microsome preparations, it has been shown that no significant amount of desmopressin is metabolised in the liver and thus human liver metabolism in vivo is not likely to occur [L1184].</td>\n",
       "      <td>Following nasal spray administration of 0.83 mcg and 1.66 mcg, median time to peak plasma concentrations (Tmax) was 0.25 and 0.75 hour, respectively [FDA Label]. The peak plasma concentration was approximately 4.00 (± 3.85) pg/mL and 9.11 (± 6.90) pg/mL, respectively [FDA Label]. The bioavailability of 1.5 mg/mL desmopressin administered by the intranasal route was between 3.3 and 4.1% [L1183].\\r\\n\\r\\nThe absolute bioavailability of orally administered desmopressin varies between 0.08% and 0.16% where the mean maximum plasma concentration is reached within 2 hours [L1184].</td>\n",
       "      <td>Following an intranasal dose of 1.66 mcg of desmopressin, the median apparent terminal half-life was 2.8 hours [FDA Label]. Terminal half-life significantly increased from 3 hours in normal healthy patients to 9 hours in patients with severe renal impairment [FDA Label]. The oral terminal half life of desmopressin ranges from 2 to 3.11 hours [L1184].</td>\n",
       "      <td>...</td>\n",
       "      <td>NaN</td>\n",
       "      <td>NaN</td>\n",
       "      <td>NaN</td>\n",
       "      <td>NaN</td>\n",
       "      <td>NaN</td>\n",
       "      <td>NaN</td>\n",
       "      <td>NaN</td>\n",
       "      <td>NaN</td>\n",
       "      <td>NaN</td>\n",
       "      <td>\\n      |DDAVP Rhinal Tube|Ddavp|Ddavp Inj 4mcg/ml|Ddavp Melt|Ddavp Rhinyle|Ddavp Spray|Ddavp Tablets 0.1mg|Ddavp Tablets 0.2mg|Desmopressin|Desmopressin Acetate|Desmopressin Spray|Desmopressin Tablets|Desmopressin acetate|Minirin|Nocdurna|Noctiva|Nu-desmopressin Spray|Octostim Liq Inj. 15mcg/ml|Octostim Spray|PMS-desmopressin|Stimate|Teva-desmopressin</td>\n",
       "    </tr>\n",
       "    <tr>\n",
       "      <th>4</th>\n",
       "      <td>small molecule</td>\n",
       "      <td>DB00050</td>\n",
       "      <td>Cetrorelix</td>\n",
       "      <td>Cetrorelix is a man-made hormone that blocks the effects of Gonadotropin Releasing Hormone (GnRH). GnRH controls another hormone that is called luteinizing hormone (LH), which is the hormone that starts ovulation during the menstrual cycle. When undergoing hormone treatment sometimes premature ovulation can occur, leading to eggs that are not ready for fertilization to be released. Cetrorelix does not allow the premature release of these eggs to occur.</td>\n",
       "      <td>Cetrorelix is a synthetic decapeptide with gonadotropin-releasing hormone (GnRH) antagonistic activity. GnRH induces the production and release of luteinizing hormone (LH) and follicle stimulating hormone (FSH) from the gonadotrophic cells of the anterior pituitary. Due to a positive estradiol (E2) feedback at midcycle, GnRH liberation is enhanced resulting in an LH-surge. This LH-surge induces the ovulation of the dominant follicle, resumption of oocyte meiosis and subsequently luteinization as indicated by rising progesterone levels. Cetrorelix competes with natural GnRH for binding to membrane receptors on pituitary cells and thus controls the release of LH and FSH in a dose-dependent manner.</td>\n",
       "      <td>Cetrorelix binds to the gonadotropin releasing hormone receptor and acts as a potent inhibitor of gonadotropin secretion. It competes with natural GnRH for binding to membrane receptors on pituitary cells and thus controls the release of LH and FSH in a dose-dependent manner.</td>\n",
       "      <td>NaN</td>\n",
       "      <td>In in vitro studies, cetrorelix was stable against phase I- and phase II-metabolism. Cetrorelix was transformed by peptidases, and the (1-4) peptide was the predominant metabolite.</td>\n",
       "      <td>Rapidly absorbed following subcutaneous injection. The mean absolute bioavailability following subcutaneous administration to healthy female subjects is 85%.</td>\n",
       "      <td>~62.8 hours</td>\n",
       "      <td>...</td>\n",
       "      <td>NaN</td>\n",
       "      <td>NaN</td>\n",
       "      <td>NaN</td>\n",
       "      <td>NaN</td>\n",
       "      <td>NaN</td>\n",
       "      <td>NaN</td>\n",
       "      <td>NaN</td>\n",
       "      <td>NaN</td>\n",
       "      <td>NaN</td>\n",
       "      <td>Cetrorelix|Cetrotide</td>\n",
       "    </tr>\n",
       "  </tbody>\n",
       "</table>\n",
       "<p>5 rows × 32 columns</p>\n",
       "</div>"
      ],
      "text/plain": [
       "             type drugbank_id          name                                                                                                                                                                                                                                                                                                                                                                                                                                                                                                                                                                                                                                                                                                                                                                                                                                                                                                                                                                                                                                                                                                                                                                                                                                                                                                                                                                                                                                                                                                                                                        description                                                                                                                                                                                                                                                                                                                                                                                                                                                                                                                                                                                                                                                                                                                  pharmacodynamics                                                                                                                                                                                                                                                                                                                                                                                                                                                                                                                                mechanism-of-action                                                                                                                                                                                                                                                                                                                                                                                                                                                                                                                                                                                                                                                                                                         toxicity                                                                                                                                                                                                         metabolism                                                                                                                                                                                                                                                                                                                                                                                                                                                                                                                                                                                           absorption                                                                                                                                                                                                                                                                                                                                                         half-life                                                                                                                                                                                                                                                                                                                                                                                                                                                                                                                                                                                                                                        ...                                                                                                                                                                                                                                                                                                                                                                                                                                                                                                                                                                                                                                        logP Water_Solubility Melting_Point Boiling_Point Hydrophobicity Isoelectric_Point caco2_Permeability pKa Radioactivity                                                                                                                                                                                                                                                                                                                                                                                                                                                                                                                                                                                                                                                                                                                                                                                                                                                                                                                                                                                                                                                                                                                                                                                                                                                                           aliases\n",
       "0  small molecule     DB00006   Bivalirudin                                                                                                                                                                                                                                                                                                                                                                                                                                                                                                                                                                                                                                                                                                                                                                                                                                                                                                                                                                                                                                                                                                         Bivalirudin is a synthetic 20 residue peptide (thrombin inhibitor) which reversibly inhibits thrombin. Once bound to the active site, thrombin cannot activate fibrinogen into fibrin, the crucial step in the formation of thrombus. It is administered intravenously. Because it can cause blood stagnation, it is important to monitor changes in hematocrit, activated partial thromboplastin time, international normalized ratio and blood pressure.                                                                                                                                                                                                                                                                                                                                                                                         Bivalirudin directly and reversibly inhibits thrombin by specifically binding both to the catalytic site and to the anion-binding exosite of circulating and clot-bound thrombin.  The action of bivalirudin is reversible because thrombin will slowly cleave the thrombin-bivalirudin bond which recovers the active site of thrombin.   Inhibits the action of thrombin by binding both to its catalytic site and to its anion-binding exosite. Thrombin is a serine proteinase that plays a central role in the thrombotic process, acting to cleave fibrinogen into fibrin monomers and to activate Factor XIII to Factor XIIIa, allowing fibrin to develop a covalently cross-linked framework which stabilizes the thrombus; thrombin also activates Factors V and VIII, promoting further thrombin generation, and activates platelets, stimulating aggregation and granule release.                                                                                                                                                                                                                                                                                                                                                                                                                                                                                                                      Based on a study by Gleason et al., the no-observed-adverse-effect level (NOAEL) for bivalirudin, administered to rats via intravenous infusion over a 24-hour period, was 2000 mg/kg/24 h.                                                                                                                                                                                           80% proteolytic cleavage                                                                                                                                                                                                                                                                                                                              Following intravenous administration, bivalirudin exhibits linear pharmacokinetics.  The mean steady state concentration is 12.3 +/- 1.7mcg/mL after administration of an intravenous bolus of 1mg/kg followd by a 2.5mg/kg/hr intravenous infusion given over 4 hours.                                                                                                                                                                                                                        * Normal renal function: 25 min (in normal conditions)\\r\\n* Creatinine clearance 10-29mL/min: 57min\\r\\n* Dialysis-dependant patients: 3.5h                                                                                                                                                                                                                                                                                                                                                                                                                                                                                                                                                                                                                                        ...                                                                                                                                                                                                                                                                                                                                                                                                                                                                                                                                                                                                                                         NaN              NaN           NaN           NaN            NaN               NaN                NaN NaN           NaN                                                                                                                                                                                                                                                                                                                                                                                                                                                                                                                                                                                                                                                                                                                                                                                                                                                                                                                                                                                                                                                                                                                                                                                       \\n      |Angiomax|Bivalirudin|Bivalirudin for Injection|Bivalirudin in 0.9% Sodium Chloride\n",
       "1  small molecule     DB00014     Goserelin                                                                                                                                                                                                                                                                                                                                                                                                                                                                                                                                                                                                                                                                                                                                                                                                                                                                                                                                                                                                                                                                                                                                                                                Goserelin is a synthetic hormone. In men, it stops the production of the hormone testosterone, which may stimulate the growth of cancer cells. In women, goserelin decreases the production of the hormone estradiol (which may stimulate the growth of cancer cells) to levels similar to a postmenopausal state. When the medication is stopped, hormone levels return to normal.                                                                                                                                                                                                                                                                                                                                                                                                                                                       The pharmacokinetics of goserelin have been determined in both male and female healthy volunteers and patients. In these studies, goserelin was administered as a single 250µg (aqueous solution) dose and as a single or multiple 3.6 mg depot dose by subcutaneous route.                                                                                                                                                                                                                                                                                       Goserelin is a synthetic decapeptide analogue of LHRH. Goserelin acts as a potent inhibitor of pituitary gonadotropin secretion when administered in the biodegradable formulation. The result is sustained suppression of LH and serum testosterone levels.                                                                                                                                                                                                                                                                                                                                                                                                                                                                                                                                                                                                                                                                No experience of overdosage from clinical trials.                                                                                                                                                                                                            Hepatic                                                                                                                                                                                                                                                                                                                                                                                                                                                                                                                             Inactive orally, rapidly absorbed following subcutaneous administration.                                                                                                                                                                                                                                                                                                                                                         4-5 hours                                                                                                                                                                                                                                                                                                                                                                                                                                                                                                                                                                                                                                        ...                                                                                                                                                                                                                                                                                                                                                                                                                                                                                                                                                                                                                                         NaN              NaN           NaN           NaN            NaN               NaN                NaN NaN           NaN                                                                                                                                                                                                                                                                                                                                                                                                                                                                                                                                                                                                                                                                                                                                                                                                                                                                                                                                                                                                                                                                                                                                                                                                                                             \\n      |Goserelin|Zoladex|Zoladex LA\n",
       "2  small molecule     DB00027  Gramicidin D                                                                                                                                                                                                                                                                                                                                                                                                                                                                                                                                                                                                                                                                                                                                                                                                                             Gramcidin D is a heterogeneous mixture of three antibiotic compounds, gramicidins A, B and C, making up 80%, 6%, and 14% respectively all of which are obtained from the soil bacterial species Bacillus brevis and called collectively gramicidin D. Gramcidins are 15 residue peptides with alternating D and L amino acids. The peptides assemble inside of the hydrophobic interior of the cellular lipid bilayer to form a β-helix. The helix itself is not long enough to span the membrane but it dimerizes to form the elongated channel needed to span the whole membrane. Gramicidin D is used primarily as a topical antibiotic and is one of the three constituents of consumer antibiotic polysporin ophthalmic solution.                                                                                                                                                                                                                                                                                                         Gramicidin is particularly effective against gram-positive bacteria. Because the drug is highly hemolytic, it cannot be administered internally and so is used only on the skin as a lotion or ointment. It is used primarily in the treatment of infected surface wounds, and in eye, nose, and throat infections. It is normally given with two other antibiotics (neomycin and polymixin B) as an ophthalmic solution.                                                      Gramicidin D binds to and inserts itself into bacterial membranes (with a strong preference to gram-positive cell membranes). This results in membrane disruption and permeabilization (it acts as a channel). This leads to (i) loss of intracellular solutes (e.g., K+ and amino acids); (ii) dissipation of the transmembrane potential; (iii) inhibition of respiration; (iv) a reduction in ATP pools; and (v) inhibition of DNA, RNA, and protein synthesis, which leads to cell death.                                                                                                                                                                                                                                                                                                                                                                                                                                                                                                                                                                                                                                                                                                              NaN                                                                                                                                                                                                                NaN                                                                                                                                                                                                                                                                                                                                                                                                                                                                                                                                                                                                  NaN                                                                                                                                                                                                                                                                                                                                                               NaN                                                                                                                                                                                                                                                                                                                                                                                                                                                                                                                                                                                                                                        ...                                                                                                                                                                                                                                                                                                                                                                                                                                                                                                                                                                                                                                         NaN              NaN           NaN           NaN            NaN               NaN                NaN NaN           NaN  \\n      |Antibiotic Cream|Antibiotic Cream Plus Pain Relief|Antibiotic Cream Plus Pain Relief for Kids|Antibiotic Cream for Kids|Antibiotic Drops|Antibiotic Ear Drops|Antibiotic Eye Drops|Antibiotic Plus Pain Relief Cream|Complete Antibiotic Ointment|Gramicidin D|Kenacomb Cream|Kenacomb Mild Cream|Kenacomb Mild Ointment|Kenacomb Ointment|Kenacomb Ont|Lidecomb Cream|Lidosporin Cream|Mecomb Crm 0.1%|Neocidin|Neomycin and Polymyxin B Sulfates and Gramicidin|Neosporin|Neosporin Antibiotic Cream|Neosporin Eye-ear Solution|Odan-spor|Optimyxin|Optimyxin Plus Oto-opht Gtte|Original Antibiotic Cream|Polycidin Eye, Ear Drops|Polysporin Antibiotic Burn Cream|Polysporin Antibiotic Cream|Polysporin Burn Formula Cream|Polysporin Cold Sore Ointment|Polysporin Complete|Polysporin Cream|Polysporin Eye and Ear Drops Sterile|Polysporin Plus Pain Relief|Polysporin Triple Antibiotic Ointment|Polysporin for Kids|Polysporin for Stitches|Polytopic Cream|Sandoz Opticort|Sofracort Ear/eye Ointment|Sofracort Eye/ear Drops|Sofracort Sterile Ear/eye Drops|Sofracort Sterile Ear/eye Ointment|Soframycin Nasal Spray|Soframycin Ointment|Soframycin Skin Ointment|Teva-triacomb|Theraderm Cream|Triple Antibiotic Ointment|Viaderm Kc Crm|Viaderm Kc Ont\n",
       "3  small molecule     DB00035  Desmopressin  Desmopressin (dDAVP), a synthetic analogue of 8-arginine vasopressin (ADH), is an antidiuretic peptide drug modified by deamination of 1-cysteine and substitution of 8-L-arginine by 8-D-arginine. ADH is an endogenous pituitary hormone that has a crucial role in the control of the water content in the body. Upon release from the stimulation of increased plasma osmolarity or decreased circulating blood volume, ADH mainly acts on the cells of the distal part of the nephron and the collecting tubules in the kidney [T28]. The hormone interacts with V1, V2 or V3 receptors with differing signal cascade systems.\\r\\n\\r\\nDesmopressin displays enhanced antidiuretic potency, fewer pressor effects due to V2-selective actions, and a prolonged half-life and duration of action compared to endogenous ADH [A31661]. It has been employed clinically since 1972 and is available in various formulations including intranasal solution, intravenous solution, oral tablet and oral lyophilisate [A31662]. Desmopressin is indicated for the treatment of polyuric conditions including primary nocturnal enuresis, nocturia, and diabetes insipidus. It was also newly approved for the treatment of mild classical hemophilia and von Willebrand's disease for minor surgeries. The active ingredient in most formulations is desmopressin acetate. Nocdurna, or desmopressin acetate, was approved by the FDA on June 21st, 2018 for the treatment of nocturia due to nocturnal polyuria in adults. It is available as a sublingual tablet.                                                                                                                 By mimicking the actions of endogenous ADH, desmopressin acts as a selective agonist of V2 receptors expressed in the renal collecting duct (CD) to increase water re-absorption and reduce urine production. Desmopressin has been shown to be more potent than ADH in increasing plasma levels of factor VIII activity in patients with hemophilia and von Willebrand's disease Type I [L1183]. Desmopressin demonstrates markedly diminished pressor activity. Desmopressin administered intranasally has an antidiuretic effect about one-tenth that of an equivalent dose administered by injection [L1182].                                                                                                                                     Upon binding of desmopressin to V2 receptors in the basolateral membrane of the cells of the distal tubule and collecting ducts of the nephron, adenylyl cyclase is stimulated. The resulting intracellular cascades in the collecting duct lead to increased rate of insertion of water channels, called aquaporins, into the lumenal membrane and enhanced the permeability of the membrane to water [T28].   Intravenous TDLo in humans is reported to be 0.3 µg/kg/10M [MSDS]. Desmopressin is associated with hyponatremia in case of overdose, which may require temporary or permanent discontinuation of the therapy depending on severity. The effects of hyponatremia include seizure, altered mental status (confusion, drowsiness or continuing headache), cardiac arrhythmias and worsening edema. Other signs of overdose may include oliguria and rapid weight gain due to fluid retention [FDA Label]. In case of overdose, reduce the dose or frequency of drug administration, or discontinue use if appropriate. Assessment of serum sodium and initiation of appropriate medical treatment is recommended.   In vitro, in human liver microsome preparations, it has been shown that no significant amount of desmopressin is metabolised in the liver and thus human liver metabolism in vivo is not likely to occur [L1184].  Following nasal spray administration of 0.83 mcg and 1.66 mcg, median time to peak plasma concentrations (Tmax) was 0.25 and 0.75 hour, respectively [FDA Label]. The peak plasma concentration was approximately 4.00 (± 3.85) pg/mL and 9.11 (± 6.90) pg/mL, respectively [FDA Label]. The bioavailability of 1.5 mg/mL desmopressin administered by the intranasal route was between 3.3 and 4.1% [L1183].\\r\\n\\r\\nThe absolute bioavailability of orally administered desmopressin varies between 0.08% and 0.16% where the mean maximum plasma concentration is reached within 2 hours [L1184].  Following an intranasal dose of 1.66 mcg of desmopressin, the median apparent terminal half-life was 2.8 hours [FDA Label]. Terminal half-life significantly increased from 3 hours in normal healthy patients to 9 hours in patients with severe renal impairment [FDA Label]. The oral terminal half life of desmopressin ranges from 2 to 3.11 hours [L1184].                                                                                                                                                                                                                                                                                                                                                                                                                                                                                                                                                                                                                                        ...                                                                                                                                                                                                                                                                                                                                                                                                                                                                                                                                                                                                                                         NaN              NaN           NaN           NaN            NaN               NaN                NaN NaN           NaN                                                                                                                                                                                                                                                                                                                                                                                                                                                                                                                                                                                                                                                                                                                                                                                                                                                                                                                \\n      |DDAVP Rhinal Tube|Ddavp|Ddavp Inj 4mcg/ml|Ddavp Melt|Ddavp Rhinyle|Ddavp Spray|Ddavp Tablets 0.1mg|Ddavp Tablets 0.2mg|Desmopressin|Desmopressin Acetate|Desmopressin Spray|Desmopressin Tablets|Desmopressin acetate|Minirin|Nocdurna|Noctiva|Nu-desmopressin Spray|Octostim Liq Inj. 15mcg/ml|Octostim Spray|PMS-desmopressin|Stimate|Teva-desmopressin\n",
       "4  small molecule     DB00050    Cetrorelix                                                                                                                                                                                                                                                                                                                                                                                                                                                                                                                                                                                                                                                                                                                                                                                                                                                                                                                                                                                                                                                                                           Cetrorelix is a man-made hormone that blocks the effects of Gonadotropin Releasing Hormone (GnRH). GnRH controls another hormone that is called luteinizing hormone (LH), which is the hormone that starts ovulation during the menstrual cycle. When undergoing hormone treatment sometimes premature ovulation can occur, leading to eggs that are not ready for fertilization to be released. Cetrorelix does not allow the premature release of these eggs to occur.  Cetrorelix is a synthetic decapeptide with gonadotropin-releasing hormone (GnRH) antagonistic activity. GnRH induces the production and release of luteinizing hormone (LH) and follicle stimulating hormone (FSH) from the gonadotrophic cells of the anterior pituitary. Due to a positive estradiol (E2) feedback at midcycle, GnRH liberation is enhanced resulting in an LH-surge. This LH-surge induces the ovulation of the dominant follicle, resumption of oocyte meiosis and subsequently luteinization as indicated by rising progesterone levels. Cetrorelix competes with natural GnRH for binding to membrane receptors on pituitary cells and thus controls the release of LH and FSH in a dose-dependent manner.                                                                                                                                                                                                                                                               Cetrorelix binds to the gonadotropin releasing hormone receptor and acts as a potent inhibitor of gonadotropin secretion. It competes with natural GnRH for binding to membrane receptors on pituitary cells and thus controls the release of LH and FSH in a dose-dependent manner.                                                                                                                                                                                                                                                                                                                                                                                                                                                                                                                                                                                                                                                                                                              NaN                               In in vitro studies, cetrorelix was stable against phase I- and phase II-metabolism. Cetrorelix was transformed by peptidases, and the (1-4) peptide was the predominant metabolite.                                                                                                                                                                                                                                                                                                                                                                                                                                        Rapidly absorbed following subcutaneous injection. The mean absolute bioavailability following subcutaneous administration to healthy female subjects is 85%.                                                                                                                                                                                                                                                                                                                                                       ~62.8 hours                                                                                                                                                                                                                                                                                                                                                                                                                                                                                                                                                                                                                                        ...                                                                                                                                                                                                                                                                                                                                                                                                                                                                                                                                                                                                                                         NaN              NaN           NaN           NaN            NaN               NaN                NaN NaN           NaN                                                                                                                                                                                                                                                                                                                                                                                                                                                                                                                                                                                                                                                                                                                                                                                                                                                                                                                                                                                                                                                                                                                                                                                                                                                              Cetrorelix|Cetrotide\n",
       "\n",
       "[5 rows x 32 columns]"
      ]
     },
     "execution_count": 4,
     "metadata": {},
     "output_type": "execute_result"
    }
   ],
   "source": [
    "dbslim_df.head()"
   ]
  },
  {
   "cell_type": "code",
   "execution_count": 6,
   "metadata": {},
   "outputs": [],
   "source": [
    "dbsmiles_df = pd.read_csv('drugbank_smiles_df.csv')"
   ]
  },
  {
   "cell_type": "code",
   "execution_count": 7,
   "metadata": {},
   "outputs": [
    {
     "data": {
      "text/plain": [
       "(7551, 16)"
      ]
     },
     "execution_count": 7,
     "metadata": {},
     "output_type": "execute_result"
    }
   ],
   "source": [
    "dbsmiles_df.shape"
   ]
  },
  {
   "cell_type": "code",
   "execution_count": 8,
   "metadata": {},
   "outputs": [
    {
     "data": {
      "text/html": [
       "<div>\n",
       "<style>\n",
       "    .dataframe thead tr:only-child th {\n",
       "        text-align: right;\n",
       "    }\n",
       "\n",
       "    .dataframe thead th {\n",
       "        text-align: left;\n",
       "    }\n",
       "\n",
       "    .dataframe tbody tr th {\n",
       "        vertical-align: top;\n",
       "    }\n",
       "</style>\n",
       "<table border=\"1\" class=\"dataframe\">\n",
       "  <thead>\n",
       "    <tr style=\"text-align: right;\">\n",
       "      <th></th>\n",
       "      <th>drugbank_id</th>\n",
       "      <th>name</th>\n",
       "      <th>cas</th>\n",
       "      <th>smiles</th>\n",
       "      <th>logP ALOGPS</th>\n",
       "      <th>logP ChemAxon</th>\n",
       "      <th>solubility ALOGPS</th>\n",
       "      <th>pKa (strongest acidic)</th>\n",
       "      <th>pKa (strongest basic)</th>\n",
       "      <th>F</th>\n",
       "      <th>carbonyl</th>\n",
       "      <th>sulfinyl</th>\n",
       "      <th>sulfonyl</th>\n",
       "      <th>nitroso</th>\n",
       "      <th>nitro</th>\n",
       "      <th>tertAmines</th>\n",
       "    </tr>\n",
       "  </thead>\n",
       "  <tbody>\n",
       "    <tr>\n",
       "      <th>0</th>\n",
       "      <td>DB00006</td>\n",
       "      <td>Bivalirudin</td>\n",
       "      <td>128270-60-0</td>\n",
       "      <td>CC[C@H](C)[C@H](NC(=O)[C@H](CCC(O)=O)NC(=O)[C@H](CCC(O)=O)NC(=O)[C@H](CC1=CC=CC=C1)NC(=O)[C@H](CC(O)=O)NC(=O)CNC(=O)[C@H](CC(N)=O)NC(=O)CNC(=O)CNC(=O)CNC(=O)CNC(=O)[C@@H]1CCCN1C(=O)[C@H](CCCNC(N)=N)NC(=O)[C@@H]1CCCN1C(=O)[C@H](N)CC1=CC=CC=C1)C(=O)N1CCC[C@H]1C(=O)N[C@@H](CCC(O)=O)C(=O)N[C@@H](CCC(O)=O)C(=O)N[C@@H](CC1=CC=C(O)C=C1)C(=O)N[C@@H](CC(C)C)C(O)=O</td>\n",
       "      <td>-0.76</td>\n",
       "      <td>-14.0</td>\n",
       "      <td>4.64e-02 g/l</td>\n",
       "      <td>2.79</td>\n",
       "      <td>11.88</td>\n",
       "      <td>NaN</td>\n",
       "      <td>NaN</td>\n",
       "      <td>NaN</td>\n",
       "      <td>NaN</td>\n",
       "      <td>NaN</td>\n",
       "      <td>NaN</td>\n",
       "      <td>NaN</td>\n",
       "    </tr>\n",
       "    <tr>\n",
       "      <th>1</th>\n",
       "      <td>DB00014</td>\n",
       "      <td>Goserelin</td>\n",
       "      <td>65807-02-5</td>\n",
       "      <td>CC(C)C[C@H](NC(=O)[C@@H](COC(C)(C)C)NC(=O)[C@H](CC1=CC=C(O)C=C1)NC(=O)[C@H](CO)NC(=O)[C@H](CC1=CNC2=CC=CC=C12)NC(=O)[C@H](CC1=CN=CN1)NC(=O)[C@@H]1CCC(=O)N1)C(=O)N[C@@H](CCCN=C(N)N)C(=O)N1CCC[C@H]1C(=O)NNC(N)=O</td>\n",
       "      <td>0.30</td>\n",
       "      <td>-5.2</td>\n",
       "      <td>2.83e-02 g/l</td>\n",
       "      <td>9.27</td>\n",
       "      <td>10.82</td>\n",
       "      <td>NaN</td>\n",
       "      <td>NaN</td>\n",
       "      <td>NaN</td>\n",
       "      <td>NaN</td>\n",
       "      <td>NaN</td>\n",
       "      <td>NaN</td>\n",
       "      <td>NaN</td>\n",
       "    </tr>\n",
       "    <tr>\n",
       "      <th>2</th>\n",
       "      <td>DB00035</td>\n",
       "      <td>Desmopressin</td>\n",
       "      <td>16679-58-6</td>\n",
       "      <td>NC(=O)CC[C@@H]1NC(=O)[C@H](CC2=CC=CC=C2)NC(=O)[C@H](CC2=CC=C(O)C=C2)NC(=O)CCSSC[C@H](NC(=O)[C@H](CC(N)=O)NC1=O)C(=O)N1CCC[C@H]1C(=O)N[C@@H](CCCNC(N)=N)C(=O)NCC(N)=O</td>\n",
       "      <td>-1.00</td>\n",
       "      <td>-6.1</td>\n",
       "      <td>1.10e-01 g/l</td>\n",
       "      <td>9.50</td>\n",
       "      <td>11.77</td>\n",
       "      <td>NaN</td>\n",
       "      <td>NaN</td>\n",
       "      <td>NaN</td>\n",
       "      <td>NaN</td>\n",
       "      <td>NaN</td>\n",
       "      <td>NaN</td>\n",
       "      <td>NaN</td>\n",
       "    </tr>\n",
       "    <tr>\n",
       "      <th>3</th>\n",
       "      <td>DB00050</td>\n",
       "      <td>Cetrorelix</td>\n",
       "      <td>120287-85-6</td>\n",
       "      <td>CC(C)C[C@H](NC(=O)[C@@H](CCCNC(N)=O)NC(=O)[C@H](CC1=CC=C(O)C=C1)NC(=O)[C@H](CO)NC(=O)[C@@H](CC1=CN=CC=C1)NC(=O)[C@@H](CC1=CC=C(Cl)C=C1)NC(=O)[C@@H](CC1=CC2=CC=CC=C2C=C1)NC(C)=O)C(=O)N[C@@H](CCCNC(N)=N)C(=O)N1CCC[C@H]1C(=O)N[C@H](C)C(N)=O</td>\n",
       "      <td>1.33</td>\n",
       "      <td>-1.7</td>\n",
       "      <td>6.94e-03 g/l</td>\n",
       "      <td>9.49</td>\n",
       "      <td>11.11</td>\n",
       "      <td>NaN</td>\n",
       "      <td>NaN</td>\n",
       "      <td>NaN</td>\n",
       "      <td>NaN</td>\n",
       "      <td>NaN</td>\n",
       "      <td>NaN</td>\n",
       "      <td>NaN</td>\n",
       "    </tr>\n",
       "    <tr>\n",
       "      <th>4</th>\n",
       "      <td>DB00080</td>\n",
       "      <td>Daptomycin</td>\n",
       "      <td>103060-53-3</td>\n",
       "      <td>CCCCCCCCCC(=O)N[C@@H](CC1=CNC2=C1C=CC=C2)C(=O)N[C@@H](CC(N)=O)C(=O)N[C@@H](CC(O)=O)C(=O)N[C@H]1[C@@H](C)OC(=O)[C@H](CC(=O)C2=C(N)C=CC=C2)NC(=O)[C@@H](NC(=O)[C@@H](CO)NC(=O)CNC(=O)[C@H](CC(O)=O)NC(=O)[C@@H](C)NC(=O)[C@H](CC(O)=O)NC(=O)[C@H](CCCN)NC(=O)CNC1=O)[C@H](C)CC(O)=O</td>\n",
       "      <td>-0.47</td>\n",
       "      <td>-9.4</td>\n",
       "      <td>1.73e-02 g/l</td>\n",
       "      <td>2.98</td>\n",
       "      <td>9.59</td>\n",
       "      <td>NaN</td>\n",
       "      <td>NaN</td>\n",
       "      <td>NaN</td>\n",
       "      <td>NaN</td>\n",
       "      <td>NaN</td>\n",
       "      <td>NaN</td>\n",
       "      <td>NaN</td>\n",
       "    </tr>\n",
       "  </tbody>\n",
       "</table>\n",
       "</div>"
      ],
      "text/plain": [
       "  drugbank_id          name          cas                                                                                                                                                                                                                                                                                                                                                                 smiles  logP ALOGPS  logP ChemAxon solubility ALOGPS  pKa (strongest acidic)  pKa (strongest basic)   F  carbonyl  sulfinyl  sulfonyl  nitroso  nitro  tertAmines\n",
       "0     DB00006   Bivalirudin  128270-60-0  CC[C@H](C)[C@H](NC(=O)[C@H](CCC(O)=O)NC(=O)[C@H](CCC(O)=O)NC(=O)[C@H](CC1=CC=CC=C1)NC(=O)[C@H](CC(O)=O)NC(=O)CNC(=O)[C@H](CC(N)=O)NC(=O)CNC(=O)CNC(=O)CNC(=O)CNC(=O)[C@@H]1CCCN1C(=O)[C@H](CCCNC(N)=N)NC(=O)[C@@H]1CCCN1C(=O)[C@H](N)CC1=CC=CC=C1)C(=O)N1CCC[C@H]1C(=O)N[C@@H](CCC(O)=O)C(=O)N[C@@H](CCC(O)=O)C(=O)N[C@@H](CC1=CC=C(O)C=C1)C(=O)N[C@@H](CC(C)C)C(O)=O        -0.76          -14.0      4.64e-02 g/l                    2.79                  11.88 NaN       NaN       NaN       NaN      NaN    NaN         NaN\n",
       "1     DB00014     Goserelin   65807-02-5                                                                                                                                                      CC(C)C[C@H](NC(=O)[C@@H](COC(C)(C)C)NC(=O)[C@H](CC1=CC=C(O)C=C1)NC(=O)[C@H](CO)NC(=O)[C@H](CC1=CNC2=CC=CC=C12)NC(=O)[C@H](CC1=CN=CN1)NC(=O)[C@@H]1CCC(=O)N1)C(=O)N[C@@H](CCCN=C(N)N)C(=O)N1CCC[C@H]1C(=O)NNC(N)=O         0.30           -5.2      2.83e-02 g/l                    9.27                  10.82 NaN       NaN       NaN       NaN      NaN    NaN         NaN\n",
       "2     DB00035  Desmopressin   16679-58-6                                                                                                                                                                                                   NC(=O)CC[C@@H]1NC(=O)[C@H](CC2=CC=CC=C2)NC(=O)[C@H](CC2=CC=C(O)C=C2)NC(=O)CCSSC[C@H](NC(=O)[C@H](CC(N)=O)NC1=O)C(=O)N1CCC[C@H]1C(=O)N[C@@H](CCCNC(N)=N)C(=O)NCC(N)=O        -1.00           -6.1      1.10e-01 g/l                    9.50                  11.77 NaN       NaN       NaN       NaN      NaN    NaN         NaN\n",
       "3     DB00050    Cetrorelix  120287-85-6                                                                                                                          CC(C)C[C@H](NC(=O)[C@@H](CCCNC(N)=O)NC(=O)[C@H](CC1=CC=C(O)C=C1)NC(=O)[C@H](CO)NC(=O)[C@@H](CC1=CN=CC=C1)NC(=O)[C@@H](CC1=CC=C(Cl)C=C1)NC(=O)[C@@H](CC1=CC2=CC=CC=C2C=C1)NC(C)=O)C(=O)N[C@@H](CCCNC(N)=N)C(=O)N1CCC[C@H]1C(=O)N[C@H](C)C(N)=O         1.33           -1.7      6.94e-03 g/l                    9.49                  11.11 NaN       NaN       NaN       NaN      NaN    NaN         NaN\n",
       "4     DB00080    Daptomycin  103060-53-3                                                                                      CCCCCCCCCC(=O)N[C@@H](CC1=CNC2=C1C=CC=C2)C(=O)N[C@@H](CC(N)=O)C(=O)N[C@@H](CC(O)=O)C(=O)N[C@H]1[C@@H](C)OC(=O)[C@H](CC(=O)C2=C(N)C=CC=C2)NC(=O)[C@@H](NC(=O)[C@@H](CO)NC(=O)CNC(=O)[C@H](CC(O)=O)NC(=O)[C@@H](C)NC(=O)[C@H](CC(O)=O)NC(=O)[C@H](CCCN)NC(=O)CNC1=O)[C@H](C)CC(O)=O        -0.47           -9.4      1.73e-02 g/l                    2.98                   9.59 NaN       NaN       NaN       NaN      NaN    NaN         NaN"
      ]
     },
     "execution_count": 8,
     "metadata": {},
     "output_type": "execute_result"
    }
   ],
   "source": [
    "dbsmiles_df.head()"
   ]
  },
  {
   "cell_type": "code",
   "execution_count": 17,
   "metadata": {},
   "outputs": [
    {
     "name": "stderr",
     "output_type": "stream",
     "text": [
      "100%|██████████████████████████████████████████████████████████████████████████████| 2420/2420 [07:20<00:00,  5.60it/s]\n"
     ]
    }
   ],
   "source": [
    "for j in tqdm(range(len(dbslim_df))):\n",
    "    \n",
    "    for i in range(len(dbsmiles_df)):\n",
    "        if dbsmiles_df.loc[i,'drugbank_id'] == dbslim_df.loc[j,'drugbank_id']:\n",
    "            dbslim_df.loc[j,'smiles'] = dbsmiles_df.loc[i,'smiles']"
   ]
  },
  {
   "cell_type": "code",
   "execution_count": 18,
   "metadata": {},
   "outputs": [
    {
     "data": {
      "text/html": [
       "<div>\n",
       "<style>\n",
       "    .dataframe thead tr:only-child th {\n",
       "        text-align: right;\n",
       "    }\n",
       "\n",
       "    .dataframe thead th {\n",
       "        text-align: left;\n",
       "    }\n",
       "\n",
       "    .dataframe tbody tr th {\n",
       "        vertical-align: top;\n",
       "    }\n",
       "</style>\n",
       "<table border=\"1\" class=\"dataframe\">\n",
       "  <thead>\n",
       "    <tr style=\"text-align: right;\">\n",
       "      <th></th>\n",
       "      <th>type</th>\n",
       "      <th>drugbank_id</th>\n",
       "      <th>name</th>\n",
       "      <th>description</th>\n",
       "      <th>pharmacodynamics</th>\n",
       "      <th>mechanism-of-action</th>\n",
       "      <th>toxicity</th>\n",
       "      <th>metabolism</th>\n",
       "      <th>absorption</th>\n",
       "      <th>half-life</th>\n",
       "      <th>...</th>\n",
       "      <th>Water_Solubility</th>\n",
       "      <th>Melting_Point</th>\n",
       "      <th>Boiling_Point</th>\n",
       "      <th>Hydrophobicity</th>\n",
       "      <th>Isoelectric_Point</th>\n",
       "      <th>caco2_Permeability</th>\n",
       "      <th>pKa</th>\n",
       "      <th>Radioactivity</th>\n",
       "      <th>aliases</th>\n",
       "      <th>smiles</th>\n",
       "    </tr>\n",
       "  </thead>\n",
       "  <tbody>\n",
       "    <tr>\n",
       "      <th>0</th>\n",
       "      <td>small molecule</td>\n",
       "      <td>DB00006</td>\n",
       "      <td>Bivalirudin</td>\n",
       "      <td>Bivalirudin is a synthetic 20 residue peptide (thrombin inhibitor) which reversibly inhibits thrombin. Once bound to the active site, thrombin cannot activate fibrinogen into fibrin, the crucial step in the formation of thrombus. It is administered intravenously. Because it can cause blood stagnation, it is important to monitor changes in hematocrit, activated partial thromboplastin time, international normalized ratio and blood pressure.</td>\n",
       "      <td>Bivalirudin directly and reversibly inhibits thrombin by specifically binding both to the catalytic site and to the anion-binding exosite of circulating and clot-bound thrombin.  The action of bivalirudin is reversible because thrombin will slowly cleave the thrombin-bivalirudin bond which recovers the active site of thrombin.</td>\n",
       "      <td>Inhibits the action of thrombin by binding both to its catalytic site and to its anion-binding exosite. Thrombin is a serine proteinase that plays a central role in the thrombotic process, acting to cleave fibrinogen into fibrin monomers and to activate Factor XIII to Factor XIIIa, allowing fibrin to develop a covalently cross-linked framework which stabilizes the thrombus; thrombin also activates Factors V and VIII, promoting further thrombin generation, and activates platelets, stimulating aggregation and granule release.</td>\n",
       "      <td>Based on a study by Gleason et al., the no-observed-adverse-effect level (NOAEL) for bivalirudin, administered to rats via intravenous infusion over a 24-hour period, was 2000 mg/kg/24 h.</td>\n",
       "      <td>80% proteolytic cleavage</td>\n",
       "      <td>Following intravenous administration, bivalirudin exhibits linear pharmacokinetics.  The mean steady state concentration is 12.3 +/- 1.7mcg/mL after administration of an intravenous bolus of 1mg/kg followd by a 2.5mg/kg/hr intravenous infusion given over 4 hours.</td>\n",
       "      <td>* Normal renal function: 25 min (in normal conditions)\\r\\n* Creatinine clearance 10-29mL/min: 57min\\r\\n* Dialysis-dependant patients: 3.5h</td>\n",
       "      <td>...</td>\n",
       "      <td>NaN</td>\n",
       "      <td>NaN</td>\n",
       "      <td>NaN</td>\n",
       "      <td>NaN</td>\n",
       "      <td>NaN</td>\n",
       "      <td>NaN</td>\n",
       "      <td>NaN</td>\n",
       "      <td>NaN</td>\n",
       "      <td>\\n      |Angiomax|Bivalirudin|Bivalirudin for Injection|Bivalirudin in 0.9% Sodium Chloride</td>\n",
       "      <td>CC[C@H](C)[C@H](NC(=O)[C@H](CCC(O)=O)NC(=O)[C@H](CCC(O)=O)NC(=O)[C@H](CC1=CC=CC=C1)NC(=O)[C@H](CC(O)=O)NC(=O)CNC(=O)[C@H](CC(N)=O)NC(=O)CNC(=O)CNC(=O)CNC(=O)CNC(=O)[C@@H]1CCCN1C(=O)[C@H](CCCNC(N)=N)NC(=O)[C@@H]1CCCN1C(=O)[C@H](N)CC1=CC=CC=C1)C(=O)N1CCC[C@H]1C(=O)N[C@@H](CCC(O)=O)C(=O)N[C@@H](CCC(O)=O)C(=O)N[C@@H](CC1=CC=C(O)C=C1)C(=O)N[C@@H](CC(C)C)C(O)=O</td>\n",
       "    </tr>\n",
       "    <tr>\n",
       "      <th>1</th>\n",
       "      <td>small molecule</td>\n",
       "      <td>DB00014</td>\n",
       "      <td>Goserelin</td>\n",
       "      <td>Goserelin is a synthetic hormone. In men, it stops the production of the hormone testosterone, which may stimulate the growth of cancer cells. In women, goserelin decreases the production of the hormone estradiol (which may stimulate the growth of cancer cells) to levels similar to a postmenopausal state. When the medication is stopped, hormone levels return to normal.</td>\n",
       "      <td>The pharmacokinetics of goserelin have been determined in both male and female healthy volunteers and patients. In these studies, goserelin was administered as a single 250µg (aqueous solution) dose and as a single or multiple 3.6 mg depot dose by subcutaneous route.</td>\n",
       "      <td>Goserelin is a synthetic decapeptide analogue of LHRH. Goserelin acts as a potent inhibitor of pituitary gonadotropin secretion when administered in the biodegradable formulation. The result is sustained suppression of LH and serum testosterone levels.</td>\n",
       "      <td>No experience of overdosage from clinical trials.</td>\n",
       "      <td>Hepatic</td>\n",
       "      <td>Inactive orally, rapidly absorbed following subcutaneous administration.</td>\n",
       "      <td>4-5 hours</td>\n",
       "      <td>...</td>\n",
       "      <td>NaN</td>\n",
       "      <td>NaN</td>\n",
       "      <td>NaN</td>\n",
       "      <td>NaN</td>\n",
       "      <td>NaN</td>\n",
       "      <td>NaN</td>\n",
       "      <td>NaN</td>\n",
       "      <td>NaN</td>\n",
       "      <td>\\n      |Goserelin|Zoladex|Zoladex LA</td>\n",
       "      <td>CC(C)C[C@H](NC(=O)[C@@H](COC(C)(C)C)NC(=O)[C@H](CC1=CC=C(O)C=C1)NC(=O)[C@H](CO)NC(=O)[C@H](CC1=CNC2=CC=CC=C12)NC(=O)[C@H](CC1=CN=CN1)NC(=O)[C@@H]1CCC(=O)N1)C(=O)N[C@@H](CCCN=C(N)N)C(=O)N1CCC[C@H]1C(=O)NNC(N)=O</td>\n",
       "    </tr>\n",
       "    <tr>\n",
       "      <th>2</th>\n",
       "      <td>small molecule</td>\n",
       "      <td>DB00027</td>\n",
       "      <td>Gramicidin D</td>\n",
       "      <td>Gramcidin D is a heterogeneous mixture of three antibiotic compounds, gramicidins A, B and C, making up 80%, 6%, and 14% respectively all of which are obtained from the soil bacterial species Bacillus brevis and called collectively gramicidin D. Gramcidins are 15 residue peptides with alternating D and L amino acids. The peptides assemble inside of the hydrophobic interior of the cellular lipid bilayer to form a β-helix. The helix itself is not long enough to span the membrane but it dimerizes to form the elongated channel needed to span the whole membrane. Gramicidin D is used primarily as a topical antibiotic and is one of the three constituents of consumer antibiotic polysporin ophthalmic solution.</td>\n",
       "      <td>Gramicidin is particularly effective against gram-positive bacteria. Because the drug is highly hemolytic, it cannot be administered internally and so is used only on the skin as a lotion or ointment. It is used primarily in the treatment of infected surface wounds, and in eye, nose, and throat infections. It is normally given with two other antibiotics (neomycin and polymixin B) as an ophthalmic solution.</td>\n",
       "      <td>Gramicidin D binds to and inserts itself into bacterial membranes (with a strong preference to gram-positive cell membranes). This results in membrane disruption and permeabilization (it acts as a channel). This leads to (i) loss of intracellular solutes (e.g., K+ and amino acids); (ii) dissipation of the transmembrane potential; (iii) inhibition of respiration; (iv) a reduction in ATP pools; and (v) inhibition of DNA, RNA, and protein synthesis, which leads to cell death.</td>\n",
       "      <td>NaN</td>\n",
       "      <td>NaN</td>\n",
       "      <td>NaN</td>\n",
       "      <td>NaN</td>\n",
       "      <td>...</td>\n",
       "      <td>NaN</td>\n",
       "      <td>NaN</td>\n",
       "      <td>NaN</td>\n",
       "      <td>NaN</td>\n",
       "      <td>NaN</td>\n",
       "      <td>NaN</td>\n",
       "      <td>NaN</td>\n",
       "      <td>NaN</td>\n",
       "      <td>\\n      |Antibiotic Cream|Antibiotic Cream Plus Pain Relief|Antibiotic Cream Plus Pain Relief for Kids|Antibiotic Cream for Kids|Antibiotic Drops|Antibiotic Ear Drops|Antibiotic Eye Drops|Antibiotic Plus Pain Relief Cream|Complete Antibiotic Ointment|Gramicidin D|Kenacomb Cream|Kenacomb Mild Cream|Kenacomb Mild Ointment|Kenacomb Ointment|Kenacomb Ont|Lidecomb Cream|Lidosporin Cream|Mecomb Crm 0.1%|Neocidin|Neomycin and Polymyxin B Sulfates and Gramicidin|Neosporin|Neosporin Antibiotic Cream|Neosporin Eye-ear Solution|Odan-spor|Optimyxin|Optimyxin Plus Oto-opht Gtte|Original Antibiotic Cream|Polycidin Eye, Ear Drops|Polysporin Antibiotic Burn Cream|Polysporin Antibiotic Cream|Polysporin Burn Formula Cream|Polysporin Cold Sore Ointment|Polysporin Complete|Polysporin Cream|Polysporin Eye and Ear Drops Sterile|Polysporin Plus Pain Relief|Polysporin Triple Antibiotic Ointment|Polysporin for Kids|Polysporin for Stitches|Polytopic Cream|Sandoz Opticort|Sofracort Ear/eye Ointment|Sofracort Eye/ear Drops|Sofracort Sterile Ear/eye Drops|Sofracort Sterile Ear/eye Ointment|Soframycin Nasal Spray|Soframycin Ointment|Soframycin Skin Ointment|Teva-triacomb|Theraderm Cream|Triple Antibiotic Ointment|Viaderm Kc Crm|Viaderm Kc Ont</td>\n",
       "      <td>NaN</td>\n",
       "    </tr>\n",
       "    <tr>\n",
       "      <th>3</th>\n",
       "      <td>small molecule</td>\n",
       "      <td>DB00035</td>\n",
       "      <td>Desmopressin</td>\n",
       "      <td>Desmopressin (dDAVP), a synthetic analogue of 8-arginine vasopressin (ADH), is an antidiuretic peptide drug modified by deamination of 1-cysteine and substitution of 8-L-arginine by 8-D-arginine. ADH is an endogenous pituitary hormone that has a crucial role in the control of the water content in the body. Upon release from the stimulation of increased plasma osmolarity or decreased circulating blood volume, ADH mainly acts on the cells of the distal part of the nephron and the collecting tubules in the kidney [T28]. The hormone interacts with V1, V2 or V3 receptors with differing signal cascade systems.\\r\\n\\r\\nDesmopressin displays enhanced antidiuretic potency, fewer pressor effects due to V2-selective actions, and a prolonged half-life and duration of action compared to endogenous ADH [A31661]. It has been employed clinically since 1972 and is available in various formulations including intranasal solution, intravenous solution, oral tablet and oral lyophilisate [A31662]. Desmopressin is indicated for the treatment of polyuric conditions including primary nocturnal enuresis, nocturia, and diabetes insipidus. It was also newly approved for the treatment of mild classical hemophilia and von Willebrand's disease for minor surgeries. The active ingredient in most formulations is desmopressin acetate. Nocdurna, or desmopressin acetate, was approved by the FDA on June 21st, 2018 for the treatment of nocturia due to nocturnal polyuria in adults. It is available as a sublingual tablet.</td>\n",
       "      <td>By mimicking the actions of endogenous ADH, desmopressin acts as a selective agonist of V2 receptors expressed in the renal collecting duct (CD) to increase water re-absorption and reduce urine production. Desmopressin has been shown to be more potent than ADH in increasing plasma levels of factor VIII activity in patients with hemophilia and von Willebrand's disease Type I [L1183]. Desmopressin demonstrates markedly diminished pressor activity. Desmopressin administered intranasally has an antidiuretic effect about one-tenth that of an equivalent dose administered by injection [L1182].</td>\n",
       "      <td>Upon binding of desmopressin to V2 receptors in the basolateral membrane of the cells of the distal tubule and collecting ducts of the nephron, adenylyl cyclase is stimulated. The resulting intracellular cascades in the collecting duct lead to increased rate of insertion of water channels, called aquaporins, into the lumenal membrane and enhanced the permeability of the membrane to water [T28].</td>\n",
       "      <td>Intravenous TDLo in humans is reported to be 0.3 µg/kg/10M [MSDS]. Desmopressin is associated with hyponatremia in case of overdose, which may require temporary or permanent discontinuation of the therapy depending on severity. The effects of hyponatremia include seizure, altered mental status (confusion, drowsiness or continuing headache), cardiac arrhythmias and worsening edema. Other signs of overdose may include oliguria and rapid weight gain due to fluid retention [FDA Label]. In case of overdose, reduce the dose or frequency of drug administration, or discontinue use if appropriate. Assessment of serum sodium and initiation of appropriate medical treatment is recommended.</td>\n",
       "      <td>In vitro, in human liver microsome preparations, it has been shown that no significant amount of desmopressin is metabolised in the liver and thus human liver metabolism in vivo is not likely to occur [L1184].</td>\n",
       "      <td>Following nasal spray administration of 0.83 mcg and 1.66 mcg, median time to peak plasma concentrations (Tmax) was 0.25 and 0.75 hour, respectively [FDA Label]. The peak plasma concentration was approximately 4.00 (± 3.85) pg/mL and 9.11 (± 6.90) pg/mL, respectively [FDA Label]. The bioavailability of 1.5 mg/mL desmopressin administered by the intranasal route was between 3.3 and 4.1% [L1183].\\r\\n\\r\\nThe absolute bioavailability of orally administered desmopressin varies between 0.08% and 0.16% where the mean maximum plasma concentration is reached within 2 hours [L1184].</td>\n",
       "      <td>Following an intranasal dose of 1.66 mcg of desmopressin, the median apparent terminal half-life was 2.8 hours [FDA Label]. Terminal half-life significantly increased from 3 hours in normal healthy patients to 9 hours in patients with severe renal impairment [FDA Label]. The oral terminal half life of desmopressin ranges from 2 to 3.11 hours [L1184].</td>\n",
       "      <td>...</td>\n",
       "      <td>NaN</td>\n",
       "      <td>NaN</td>\n",
       "      <td>NaN</td>\n",
       "      <td>NaN</td>\n",
       "      <td>NaN</td>\n",
       "      <td>NaN</td>\n",
       "      <td>NaN</td>\n",
       "      <td>NaN</td>\n",
       "      <td>\\n      |DDAVP Rhinal Tube|Ddavp|Ddavp Inj 4mcg/ml|Ddavp Melt|Ddavp Rhinyle|Ddavp Spray|Ddavp Tablets 0.1mg|Ddavp Tablets 0.2mg|Desmopressin|Desmopressin Acetate|Desmopressin Spray|Desmopressin Tablets|Desmopressin acetate|Minirin|Nocdurna|Noctiva|Nu-desmopressin Spray|Octostim Liq Inj. 15mcg/ml|Octostim Spray|PMS-desmopressin|Stimate|Teva-desmopressin</td>\n",
       "      <td>NC(=O)CC[C@@H]1NC(=O)[C@H](CC2=CC=CC=C2)NC(=O)[C@H](CC2=CC=C(O)C=C2)NC(=O)CCSSC[C@H](NC(=O)[C@H](CC(N)=O)NC1=O)C(=O)N1CCC[C@H]1C(=O)N[C@@H](CCCNC(N)=N)C(=O)NCC(N)=O</td>\n",
       "    </tr>\n",
       "    <tr>\n",
       "      <th>4</th>\n",
       "      <td>small molecule</td>\n",
       "      <td>DB00050</td>\n",
       "      <td>Cetrorelix</td>\n",
       "      <td>Cetrorelix is a man-made hormone that blocks the effects of Gonadotropin Releasing Hormone (GnRH). GnRH controls another hormone that is called luteinizing hormone (LH), which is the hormone that starts ovulation during the menstrual cycle. When undergoing hormone treatment sometimes premature ovulation can occur, leading to eggs that are not ready for fertilization to be released. Cetrorelix does not allow the premature release of these eggs to occur.</td>\n",
       "      <td>Cetrorelix is a synthetic decapeptide with gonadotropin-releasing hormone (GnRH) antagonistic activity. GnRH induces the production and release of luteinizing hormone (LH) and follicle stimulating hormone (FSH) from the gonadotrophic cells of the anterior pituitary. Due to a positive estradiol (E2) feedback at midcycle, GnRH liberation is enhanced resulting in an LH-surge. This LH-surge induces the ovulation of the dominant follicle, resumption of oocyte meiosis and subsequently luteinization as indicated by rising progesterone levels. Cetrorelix competes with natural GnRH for binding to membrane receptors on pituitary cells and thus controls the release of LH and FSH in a dose-dependent manner.</td>\n",
       "      <td>Cetrorelix binds to the gonadotropin releasing hormone receptor and acts as a potent inhibitor of gonadotropin secretion. It competes with natural GnRH for binding to membrane receptors on pituitary cells and thus controls the release of LH and FSH in a dose-dependent manner.</td>\n",
       "      <td>NaN</td>\n",
       "      <td>In in vitro studies, cetrorelix was stable against phase I- and phase II-metabolism. Cetrorelix was transformed by peptidases, and the (1-4) peptide was the predominant metabolite.</td>\n",
       "      <td>Rapidly absorbed following subcutaneous injection. The mean absolute bioavailability following subcutaneous administration to healthy female subjects is 85%.</td>\n",
       "      <td>~62.8 hours</td>\n",
       "      <td>...</td>\n",
       "      <td>NaN</td>\n",
       "      <td>NaN</td>\n",
       "      <td>NaN</td>\n",
       "      <td>NaN</td>\n",
       "      <td>NaN</td>\n",
       "      <td>NaN</td>\n",
       "      <td>NaN</td>\n",
       "      <td>NaN</td>\n",
       "      <td>Cetrorelix|Cetrotide</td>\n",
       "      <td>CC(C)C[C@H](NC(=O)[C@@H](CCCNC(N)=O)NC(=O)[C@H](CC1=CC=C(O)C=C1)NC(=O)[C@H](CO)NC(=O)[C@@H](CC1=CN=CC=C1)NC(=O)[C@@H](CC1=CC=C(Cl)C=C1)NC(=O)[C@@H](CC1=CC2=CC=CC=C2C=C1)NC(C)=O)C(=O)N[C@@H](CCCNC(N)=N)C(=O)N1CCC[C@H]1C(=O)N[C@H](C)C(N)=O</td>\n",
       "    </tr>\n",
       "  </tbody>\n",
       "</table>\n",
       "<p>5 rows × 33 columns</p>\n",
       "</div>"
      ],
      "text/plain": [
       "             type drugbank_id          name                                                                                                                                                                                                                                                                                                                                                                                                                                                                                                                                                                                                                                                                                                                                                                                                                                                                                                                                                                                                                                                                                                                                                                                                                                                                                                                                                                                                                                                                                                                                                        description                                                                                                                                                                                                                                                                                                                                                                                                                                                                                                                                                                                                                                                                                                                  pharmacodynamics                                                                                                                                                                                                                                                                                                                                                                                                                                                                                                                                mechanism-of-action                                                                                                                                                                                                                                                                                                                                                                                                                                                                                                                                                                                                                                                                                                         toxicity                                                                                                                                                                                                         metabolism                                                                                                                                                                                                                                                                                                                                                                                                                                                                                                                                                                                           absorption                                                                                                                                                                                                                                                                                                                                                         half-life                                                                                                                                                                                  ...                                                                                                                                                                                   Water_Solubility Melting_Point Boiling_Point Hydrophobicity Isoelectric_Point caco2_Permeability pKa Radioactivity                                                                                                                                                                                                                                                                                                                                                                                                                                                                                                                                                                                                                                                                                                                                                                                                                                                                                                                                                                                                                                                                                                                                                                                                                                                                           aliases                                                                                                                                                                                                                                                                                                                                                                 smiles\n",
       "0  small molecule     DB00006   Bivalirudin                                                                                                                                                                                                                                                                                                                                                                                                                                                                                                                                                                                                                                                                                                                                                                                                                                                                                                                                                                                                                                                                                                         Bivalirudin is a synthetic 20 residue peptide (thrombin inhibitor) which reversibly inhibits thrombin. Once bound to the active site, thrombin cannot activate fibrinogen into fibrin, the crucial step in the formation of thrombus. It is administered intravenously. Because it can cause blood stagnation, it is important to monitor changes in hematocrit, activated partial thromboplastin time, international normalized ratio and blood pressure.                                                                                                                                                                                                                                                                                                                                                                                         Bivalirudin directly and reversibly inhibits thrombin by specifically binding both to the catalytic site and to the anion-binding exosite of circulating and clot-bound thrombin.  The action of bivalirudin is reversible because thrombin will slowly cleave the thrombin-bivalirudin bond which recovers the active site of thrombin.   Inhibits the action of thrombin by binding both to its catalytic site and to its anion-binding exosite. Thrombin is a serine proteinase that plays a central role in the thrombotic process, acting to cleave fibrinogen into fibrin monomers and to activate Factor XIII to Factor XIIIa, allowing fibrin to develop a covalently cross-linked framework which stabilizes the thrombus; thrombin also activates Factors V and VIII, promoting further thrombin generation, and activates platelets, stimulating aggregation and granule release.                                                                                                                                                                                                                                                                                                                                                                                                                                                                                                                      Based on a study by Gleason et al., the no-observed-adverse-effect level (NOAEL) for bivalirudin, administered to rats via intravenous infusion over a 24-hour period, was 2000 mg/kg/24 h.                                                                                                                                                                                           80% proteolytic cleavage                                                                                                                                                                                                                                                                                                                              Following intravenous administration, bivalirudin exhibits linear pharmacokinetics.  The mean steady state concentration is 12.3 +/- 1.7mcg/mL after administration of an intravenous bolus of 1mg/kg followd by a 2.5mg/kg/hr intravenous infusion given over 4 hours.                                                                                                                                                                                                                        * Normal renal function: 25 min (in normal conditions)\\r\\n* Creatinine clearance 10-29mL/min: 57min\\r\\n* Dialysis-dependant patients: 3.5h                                                                                                                                                                                  ...                                                                                                                                                                                                NaN           NaN           NaN            NaN               NaN                NaN NaN           NaN                                                                                                                                                                                                                                                                                                                                                                                                                                                                                                                                                                                                                                                                                                                                                                                                                                                                                                                                                                                                                                                                                                                                                                                       \\n      |Angiomax|Bivalirudin|Bivalirudin for Injection|Bivalirudin in 0.9% Sodium Chloride  CC[C@H](C)[C@H](NC(=O)[C@H](CCC(O)=O)NC(=O)[C@H](CCC(O)=O)NC(=O)[C@H](CC1=CC=CC=C1)NC(=O)[C@H](CC(O)=O)NC(=O)CNC(=O)[C@H](CC(N)=O)NC(=O)CNC(=O)CNC(=O)CNC(=O)CNC(=O)[C@@H]1CCCN1C(=O)[C@H](CCCNC(N)=N)NC(=O)[C@@H]1CCCN1C(=O)[C@H](N)CC1=CC=CC=C1)C(=O)N1CCC[C@H]1C(=O)N[C@@H](CCC(O)=O)C(=O)N[C@@H](CCC(O)=O)C(=O)N[C@@H](CC1=CC=C(O)C=C1)C(=O)N[C@@H](CC(C)C)C(O)=O\n",
       "1  small molecule     DB00014     Goserelin                                                                                                                                                                                                                                                                                                                                                                                                                                                                                                                                                                                                                                                                                                                                                                                                                                                                                                                                                                                                                                                                                                                                                                                Goserelin is a synthetic hormone. In men, it stops the production of the hormone testosterone, which may stimulate the growth of cancer cells. In women, goserelin decreases the production of the hormone estradiol (which may stimulate the growth of cancer cells) to levels similar to a postmenopausal state. When the medication is stopped, hormone levels return to normal.                                                                                                                                                                                                                                                                                                                                                                                                                                                       The pharmacokinetics of goserelin have been determined in both male and female healthy volunteers and patients. In these studies, goserelin was administered as a single 250µg (aqueous solution) dose and as a single or multiple 3.6 mg depot dose by subcutaneous route.                                                                                                                                                                                                                                                                                       Goserelin is a synthetic decapeptide analogue of LHRH. Goserelin acts as a potent inhibitor of pituitary gonadotropin secretion when administered in the biodegradable formulation. The result is sustained suppression of LH and serum testosterone levels.                                                                                                                                                                                                                                                                                                                                                                                                                                                                                                                                                                                                                                                                No experience of overdosage from clinical trials.                                                                                                                                                                                                            Hepatic                                                                                                                                                                                                                                                                                                                                                                                                                                                                                                                             Inactive orally, rapidly absorbed following subcutaneous administration.                                                                                                                                                                                                                                                                                                                                                         4-5 hours                                                                                                                                                                                  ...                                                                                                                                                                                                NaN           NaN           NaN            NaN               NaN                NaN NaN           NaN                                                                                                                                                                                                                                                                                                                                                                                                                                                                                                                                                                                                                                                                                                                                                                                                                                                                                                                                                                                                                                                                                                                                                                                                                                             \\n      |Goserelin|Zoladex|Zoladex LA                                                                                                                                                      CC(C)C[C@H](NC(=O)[C@@H](COC(C)(C)C)NC(=O)[C@H](CC1=CC=C(O)C=C1)NC(=O)[C@H](CO)NC(=O)[C@H](CC1=CNC2=CC=CC=C12)NC(=O)[C@H](CC1=CN=CN1)NC(=O)[C@@H]1CCC(=O)N1)C(=O)N[C@@H](CCCN=C(N)N)C(=O)N1CCC[C@H]1C(=O)NNC(N)=O\n",
       "2  small molecule     DB00027  Gramicidin D                                                                                                                                                                                                                                                                                                                                                                                                                                                                                                                                                                                                                                                                                                                                                                                                                             Gramcidin D is a heterogeneous mixture of three antibiotic compounds, gramicidins A, B and C, making up 80%, 6%, and 14% respectively all of which are obtained from the soil bacterial species Bacillus brevis and called collectively gramicidin D. Gramcidins are 15 residue peptides with alternating D and L amino acids. The peptides assemble inside of the hydrophobic interior of the cellular lipid bilayer to form a β-helix. The helix itself is not long enough to span the membrane but it dimerizes to form the elongated channel needed to span the whole membrane. Gramicidin D is used primarily as a topical antibiotic and is one of the three constituents of consumer antibiotic polysporin ophthalmic solution.                                                                                                                                                                                                                                                                                                         Gramicidin is particularly effective against gram-positive bacteria. Because the drug is highly hemolytic, it cannot be administered internally and so is used only on the skin as a lotion or ointment. It is used primarily in the treatment of infected surface wounds, and in eye, nose, and throat infections. It is normally given with two other antibiotics (neomycin and polymixin B) as an ophthalmic solution.                                                      Gramicidin D binds to and inserts itself into bacterial membranes (with a strong preference to gram-positive cell membranes). This results in membrane disruption and permeabilization (it acts as a channel). This leads to (i) loss of intracellular solutes (e.g., K+ and amino acids); (ii) dissipation of the transmembrane potential; (iii) inhibition of respiration; (iv) a reduction in ATP pools; and (v) inhibition of DNA, RNA, and protein synthesis, which leads to cell death.                                                                                                                                                                                                                                                                                                                                                                                                                                                                                                                                                                                                                                                                                                              NaN                                                                                                                                                                                                                NaN                                                                                                                                                                                                                                                                                                                                                                                                                                                                                                                                                                                                  NaN                                                                                                                                                                                                                                                                                                                                                               NaN                                                                                                                                                                                  ...                                                                                                                                                                                                NaN           NaN           NaN            NaN               NaN                NaN NaN           NaN  \\n      |Antibiotic Cream|Antibiotic Cream Plus Pain Relief|Antibiotic Cream Plus Pain Relief for Kids|Antibiotic Cream for Kids|Antibiotic Drops|Antibiotic Ear Drops|Antibiotic Eye Drops|Antibiotic Plus Pain Relief Cream|Complete Antibiotic Ointment|Gramicidin D|Kenacomb Cream|Kenacomb Mild Cream|Kenacomb Mild Ointment|Kenacomb Ointment|Kenacomb Ont|Lidecomb Cream|Lidosporin Cream|Mecomb Crm 0.1%|Neocidin|Neomycin and Polymyxin B Sulfates and Gramicidin|Neosporin|Neosporin Antibiotic Cream|Neosporin Eye-ear Solution|Odan-spor|Optimyxin|Optimyxin Plus Oto-opht Gtte|Original Antibiotic Cream|Polycidin Eye, Ear Drops|Polysporin Antibiotic Burn Cream|Polysporin Antibiotic Cream|Polysporin Burn Formula Cream|Polysporin Cold Sore Ointment|Polysporin Complete|Polysporin Cream|Polysporin Eye and Ear Drops Sterile|Polysporin Plus Pain Relief|Polysporin Triple Antibiotic Ointment|Polysporin for Kids|Polysporin for Stitches|Polytopic Cream|Sandoz Opticort|Sofracort Ear/eye Ointment|Sofracort Eye/ear Drops|Sofracort Sterile Ear/eye Drops|Sofracort Sterile Ear/eye Ointment|Soframycin Nasal Spray|Soframycin Ointment|Soframycin Skin Ointment|Teva-triacomb|Theraderm Cream|Triple Antibiotic Ointment|Viaderm Kc Crm|Viaderm Kc Ont                                                                                                                                                                                                                                                                                                                                                                    NaN\n",
       "3  small molecule     DB00035  Desmopressin  Desmopressin (dDAVP), a synthetic analogue of 8-arginine vasopressin (ADH), is an antidiuretic peptide drug modified by deamination of 1-cysteine and substitution of 8-L-arginine by 8-D-arginine. ADH is an endogenous pituitary hormone that has a crucial role in the control of the water content in the body. Upon release from the stimulation of increased plasma osmolarity or decreased circulating blood volume, ADH mainly acts on the cells of the distal part of the nephron and the collecting tubules in the kidney [T28]. The hormone interacts with V1, V2 or V3 receptors with differing signal cascade systems.\\r\\n\\r\\nDesmopressin displays enhanced antidiuretic potency, fewer pressor effects due to V2-selective actions, and a prolonged half-life and duration of action compared to endogenous ADH [A31661]. It has been employed clinically since 1972 and is available in various formulations including intranasal solution, intravenous solution, oral tablet and oral lyophilisate [A31662]. Desmopressin is indicated for the treatment of polyuric conditions including primary nocturnal enuresis, nocturia, and diabetes insipidus. It was also newly approved for the treatment of mild classical hemophilia and von Willebrand's disease for minor surgeries. The active ingredient in most formulations is desmopressin acetate. Nocdurna, or desmopressin acetate, was approved by the FDA on June 21st, 2018 for the treatment of nocturia due to nocturnal polyuria in adults. It is available as a sublingual tablet.                                                                                                                 By mimicking the actions of endogenous ADH, desmopressin acts as a selective agonist of V2 receptors expressed in the renal collecting duct (CD) to increase water re-absorption and reduce urine production. Desmopressin has been shown to be more potent than ADH in increasing plasma levels of factor VIII activity in patients with hemophilia and von Willebrand's disease Type I [L1183]. Desmopressin demonstrates markedly diminished pressor activity. Desmopressin administered intranasally has an antidiuretic effect about one-tenth that of an equivalent dose administered by injection [L1182].                                                                                                                                     Upon binding of desmopressin to V2 receptors in the basolateral membrane of the cells of the distal tubule and collecting ducts of the nephron, adenylyl cyclase is stimulated. The resulting intracellular cascades in the collecting duct lead to increased rate of insertion of water channels, called aquaporins, into the lumenal membrane and enhanced the permeability of the membrane to water [T28].   Intravenous TDLo in humans is reported to be 0.3 µg/kg/10M [MSDS]. Desmopressin is associated with hyponatremia in case of overdose, which may require temporary or permanent discontinuation of the therapy depending on severity. The effects of hyponatremia include seizure, altered mental status (confusion, drowsiness or continuing headache), cardiac arrhythmias and worsening edema. Other signs of overdose may include oliguria and rapid weight gain due to fluid retention [FDA Label]. In case of overdose, reduce the dose or frequency of drug administration, or discontinue use if appropriate. Assessment of serum sodium and initiation of appropriate medical treatment is recommended.   In vitro, in human liver microsome preparations, it has been shown that no significant amount of desmopressin is metabolised in the liver and thus human liver metabolism in vivo is not likely to occur [L1184].  Following nasal spray administration of 0.83 mcg and 1.66 mcg, median time to peak plasma concentrations (Tmax) was 0.25 and 0.75 hour, respectively [FDA Label]. The peak plasma concentration was approximately 4.00 (± 3.85) pg/mL and 9.11 (± 6.90) pg/mL, respectively [FDA Label]. The bioavailability of 1.5 mg/mL desmopressin administered by the intranasal route was between 3.3 and 4.1% [L1183].\\r\\n\\r\\nThe absolute bioavailability of orally administered desmopressin varies between 0.08% and 0.16% where the mean maximum plasma concentration is reached within 2 hours [L1184].  Following an intranasal dose of 1.66 mcg of desmopressin, the median apparent terminal half-life was 2.8 hours [FDA Label]. Terminal half-life significantly increased from 3 hours in normal healthy patients to 9 hours in patients with severe renal impairment [FDA Label]. The oral terminal half life of desmopressin ranges from 2 to 3.11 hours [L1184].                                                                                                                                                                                  ...                                                                                                                                                                                                NaN           NaN           NaN            NaN               NaN                NaN NaN           NaN                                                                                                                                                                                                                                                                                                                                                                                                                                                                                                                                                                                                                                                                                                                                                                                                                                                                                                                \\n      |DDAVP Rhinal Tube|Ddavp|Ddavp Inj 4mcg/ml|Ddavp Melt|Ddavp Rhinyle|Ddavp Spray|Ddavp Tablets 0.1mg|Ddavp Tablets 0.2mg|Desmopressin|Desmopressin Acetate|Desmopressin Spray|Desmopressin Tablets|Desmopressin acetate|Minirin|Nocdurna|Noctiva|Nu-desmopressin Spray|Octostim Liq Inj. 15mcg/ml|Octostim Spray|PMS-desmopressin|Stimate|Teva-desmopressin                                                                                                                                                                                                   NC(=O)CC[C@@H]1NC(=O)[C@H](CC2=CC=CC=C2)NC(=O)[C@H](CC2=CC=C(O)C=C2)NC(=O)CCSSC[C@H](NC(=O)[C@H](CC(N)=O)NC1=O)C(=O)N1CCC[C@H]1C(=O)N[C@@H](CCCNC(N)=N)C(=O)NCC(N)=O\n",
       "4  small molecule     DB00050    Cetrorelix                                                                                                                                                                                                                                                                                                                                                                                                                                                                                                                                                                                                                                                                                                                                                                                                                                                                                                                                                                                                                                                                                           Cetrorelix is a man-made hormone that blocks the effects of Gonadotropin Releasing Hormone (GnRH). GnRH controls another hormone that is called luteinizing hormone (LH), which is the hormone that starts ovulation during the menstrual cycle. When undergoing hormone treatment sometimes premature ovulation can occur, leading to eggs that are not ready for fertilization to be released. Cetrorelix does not allow the premature release of these eggs to occur.  Cetrorelix is a synthetic decapeptide with gonadotropin-releasing hormone (GnRH) antagonistic activity. GnRH induces the production and release of luteinizing hormone (LH) and follicle stimulating hormone (FSH) from the gonadotrophic cells of the anterior pituitary. Due to a positive estradiol (E2) feedback at midcycle, GnRH liberation is enhanced resulting in an LH-surge. This LH-surge induces the ovulation of the dominant follicle, resumption of oocyte meiosis and subsequently luteinization as indicated by rising progesterone levels. Cetrorelix competes with natural GnRH for binding to membrane receptors on pituitary cells and thus controls the release of LH and FSH in a dose-dependent manner.                                                                                                                                                                                                                                                               Cetrorelix binds to the gonadotropin releasing hormone receptor and acts as a potent inhibitor of gonadotropin secretion. It competes with natural GnRH for binding to membrane receptors on pituitary cells and thus controls the release of LH and FSH in a dose-dependent manner.                                                                                                                                                                                                                                                                                                                                                                                                                                                                                                                                                                                                                                                                                                              NaN                               In in vitro studies, cetrorelix was stable against phase I- and phase II-metabolism. Cetrorelix was transformed by peptidases, and the (1-4) peptide was the predominant metabolite.                                                                                                                                                                                                                                                                                                                                                                                                                                        Rapidly absorbed following subcutaneous injection. The mean absolute bioavailability following subcutaneous administration to healthy female subjects is 85%.                                                                                                                                                                                                                                                                                                                                                       ~62.8 hours                                                                                                                                                                                  ...                                                                                                                                                                                                NaN           NaN           NaN            NaN               NaN                NaN NaN           NaN                                                                                                                                                                                                                                                                                                                                                                                                                                                                                                                                                                                                                                                                                                                                                                                                                                                                                                                                                                                                                                                                                                                                                                                                                                                              Cetrorelix|Cetrotide                                                                                                                          CC(C)C[C@H](NC(=O)[C@@H](CCCNC(N)=O)NC(=O)[C@H](CC1=CC=C(O)C=C1)NC(=O)[C@H](CO)NC(=O)[C@@H](CC1=CN=CC=C1)NC(=O)[C@@H](CC1=CC=C(Cl)C=C1)NC(=O)[C@@H](CC1=CC2=CC=CC=C2C=C1)NC(C)=O)C(=O)N[C@@H](CCCNC(N)=N)C(=O)N1CCC[C@H]1C(=O)N[C@H](C)C(N)=O\n",
       "\n",
       "[5 rows x 33 columns]"
      ]
     },
     "execution_count": 18,
     "metadata": {},
     "output_type": "execute_result"
    }
   ],
   "source": [
    "dbslim_df.head()"
   ]
  },
  {
   "cell_type": "code",
   "execution_count": 20,
   "metadata": {},
   "outputs": [
    {
     "data": {
      "text/plain": [
       "(2420, 33)"
      ]
     },
     "execution_count": 20,
     "metadata": {},
     "output_type": "execute_result"
    }
   ],
   "source": [
    "dbslim_df.shape"
   ]
  },
  {
   "cell_type": "code",
   "execution_count": 21,
   "metadata": {},
   "outputs": [
    {
     "data": {
      "text/plain": [
       "(1696, 33)"
      ]
     },
     "execution_count": 21,
     "metadata": {},
     "output_type": "execute_result"
    }
   ],
   "source": [
    "dbslim_df = dbslim_df.dropna(subset=['smiles'])\n",
    "dbslim_df.shape"
   ]
  },
  {
   "cell_type": "code",
   "execution_count": 23,
   "metadata": {},
   "outputs": [
    {
     "data": {
      "text/plain": [
       "(1619, 33)"
      ]
     },
     "execution_count": 23,
     "metadata": {},
     "output_type": "execute_result"
    }
   ],
   "source": [
    "dbslim_df = dbslim_df.dropna(subset=['description'])\n",
    "dbslim_df.shape"
   ]
  },
  {
   "cell_type": "code",
   "execution_count": 24,
   "metadata": {},
   "outputs": [],
   "source": [
    "dbslim_df.to_csv('dbslim_df_revised.csv', index=False)"
   ]
  },
  {
   "cell_type": "code",
   "execution_count": 26,
   "metadata": {},
   "outputs": [],
   "source": [
    "calc = Calculator(descriptors, ignore_3D=False)"
   ]
  },
  {
   "cell_type": "code",
   "execution_count": 27,
   "metadata": {},
   "outputs": [
    {
     "data": {
      "text/plain": [
       "1825"
      ]
     },
     "execution_count": 27,
     "metadata": {},
     "output_type": "execute_result"
    }
   ],
   "source": [
    "len(calc.descriptors)"
   ]
  },
  {
   "cell_type": "code",
   "execution_count": 28,
   "metadata": {},
   "outputs": [],
   "source": [
    "mols = [Chem.MolFromSmiles(smi) for smi in dbslim_df['smiles']]"
   ]
  },
  {
   "cell_type": "code",
   "execution_count": 29,
   "metadata": {},
   "outputs": [],
   "source": [
    "dbslim_df['mol'] = pd.Series(mols)\n",
    "dbslim_df = dbslim_df.dropna(subset=['mol'])"
   ]
  },
  {
   "cell_type": "code",
   "execution_count": 30,
   "metadata": {},
   "outputs": [],
   "source": [
    "mols = dbslim_df['mol'].values"
   ]
  },
  {
   "cell_type": "code",
   "execution_count": 31,
   "metadata": {},
   "outputs": [],
   "source": [
    "dbslim_df = dbslim_df.drop(['mol'], axis=1)"
   ]
  },
  {
   "cell_type": "code",
   "execution_count": 32,
   "metadata": {},
   "outputs": [],
   "source": [
    "dbslim_df.to_csv('dbslim_df_revised.csv', index=False)"
   ]
  },
  {
   "cell_type": "code",
   "execution_count": 33,
   "metadata": {},
   "outputs": [
    {
     "name": "stderr",
     "output_type": "stream",
     "text": [
      "                                                                                                                       \r"
     ]
    },
    {
     "name": "stdout",
     "output_type": "stream",
     "text": [
      "C:\\Users\\elahi\\Anaconda3\\envs\\gui\\lib\\site-packages\\numpy\\core\\fromnumeric.py:1897: RuntimeWarning: overflow encountered in reduce\n",
      "  return um.multiply.reduce(a, axis=axis, dtype=dtype, out=out, **kwargs)\n"
     ]
    },
    {
     "name": "stderr",
     "output_type": "stream",
     "text": [
      "                                                                                                                       \r"
     ]
    },
    {
     "name": "stdout",
     "output_type": "stream",
     "text": [
      "C:\\Users\\elahi\\Anaconda3\\envs\\gui\\lib\\site-packages\\numpy\\core\\fromnumeric.py:1897: RuntimeWarning: overflow encountered in reduce\n",
      "  return um.multiply.reduce(a, axis=axis, dtype=dtype, out=out, **kwargs)\n"
     ]
    },
    {
     "name": "stderr",
     "output_type": "stream",
     "text": [
      "                                                                                                                       \r"
     ]
    },
    {
     "name": "stdout",
     "output_type": "stream",
     "text": [
      "C:\\Users\\elahi\\Anaconda3\\envs\\gui\\lib\\site-packages\\numpy\\core\\fromnumeric.py:1897: RuntimeWarning: overflow encountered in reduce\n",
      "  return um.multiply.reduce(a, axis=axis, dtype=dtype, out=out, **kwargs)\n"
     ]
    },
    {
     "name": "stderr",
     "output_type": "stream",
     "text": [
      "                                                                                                                       \r"
     ]
    },
    {
     "name": "stdout",
     "output_type": "stream",
     "text": [
      "C:\\Users\\elahi\\Anaconda3\\envs\\gui\\lib\\site-packages\\numpy\\core\\fromnumeric.py:1897: RuntimeWarning: overflow encountered in reduce\n",
      "  return um.multiply.reduce(a, axis=axis, dtype=dtype, out=out, **kwargs)\n"
     ]
    },
    {
     "name": "stderr",
     "output_type": "stream",
     "text": [
      "100%|██████████████████████████████████████████████████████████████████████████████| 1242/1242 [03:23<00:00,  6.12it/s]\n"
     ]
    },
    {
     "data": {
      "text/plain": [
       "0"
      ]
     },
     "execution_count": 33,
     "metadata": {},
     "output_type": "execute_result"
    }
   ],
   "source": [
    "df = calc.pandas(mols)\n",
    "filename = 'dbslim_descriptors_df'+str(i)+'.csv'\n",
    "df.to_csv(filename, index=False)\n",
    "del df\n",
    "gc.collect()"
   ]
  }
 ],
 "metadata": {
  "kernelspec": {
   "display_name": "Python 3",
   "language": "python",
   "name": "python3"
  },
  "language_info": {
   "codemirror_mode": {
    "name": "ipython",
    "version": 3
   },
   "file_extension": ".py",
   "mimetype": "text/x-python",
   "name": "python",
   "nbconvert_exporter": "python",
   "pygments_lexer": "ipython3",
   "version": "3.6.6"
  }
 },
 "nbformat": 4,
 "nbformat_minor": 2
}
